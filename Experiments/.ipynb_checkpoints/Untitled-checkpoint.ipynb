{
 "cells": [
  {
   "cell_type": "markdown",
   "id": "noted-projector",
   "metadata": {},
   "source": [
    "## This notebook is to explore a possible strategy which tracks changes in individual coin market caps vs aggregate crypto market cap"
   ]
  },
  {
   "cell_type": "markdown",
   "id": "honey-bridal",
   "metadata": {},
   "source": [
    "#### Q: How concentrated towards the top few coins is the crypto market cap?"
   ]
  },
  {
   "cell_type": "code",
   "execution_count": 2,
   "id": "outdoor-sherman",
   "metadata": {},
   "outputs": [],
   "source": [
    "import os\n",
    "import sys\n",
    "sys.path.append(os.path.split(os.path.abspath(''))[0])\n",
    "\n",
    "import pickle as pkl\n",
    "\n",
    "from Coin_Gecko_API.advanced_calls import get_current_market_data"
   ]
  },
  {
   "cell_type": "code",
   "execution_count": 5,
   "id": "ancient-warrant",
   "metadata": {},
   "outputs": [],
   "source": [
    "market_data_save_path = os.path.join(os.path.expanduser('~'),\n",
    "                                    'Data',\n",
    "                                    'Crypto_Day_Trading',\n",
    "                                    'Market_Cap_Experiment_Data',\n",
    "                                    'Market_Cap_Data_8_20_23.pkl')\n",
    "\n",
    "\n",
    "if not os.path.exists(os.path.split(market_data_save_path)[0]):\n",
    "    os.makedirs(os.path.split(market_data_save_path)[0])\n",
    "    \n",
    "if not os.path.exists(market_data_save_path):\n",
    "    current_market_data = get_current_market_data(default_sleep_time=6.5)\n",
    "    with open(market_data_save_path, 'wb') as f:\n",
    "        pkl.dump(current_market_data, f)\n",
    "else:\n",
    "    with open(market_data_save_path, 'rb') as f:\n",
    "        current_market_data = pkl.load(f)"
   ]
  },
  {
   "cell_type": "code",
   "execution_count": null,
   "id": "damaged-broadway",
   "metadata": {},
   "outputs": [],
   "source": []
  }
 ],
 "metadata": {
  "kernelspec": {
   "display_name": "Python [conda env:Crypto_Day_Trading] *",
   "language": "python",
   "name": "conda-env-Crypto_Day_Trading-py"
  },
  "language_info": {
   "codemirror_mode": {
    "name": "ipython",
    "version": 3
   },
   "file_extension": ".py",
   "mimetype": "text/x-python",
   "name": "python",
   "nbconvert_exporter": "python",
   "pygments_lexer": "ipython3",
   "version": "3.8.8"
  }
 },
 "nbformat": 4,
 "nbformat_minor": 5
}
