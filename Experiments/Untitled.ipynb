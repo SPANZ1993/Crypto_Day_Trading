{
 "cells": [
  {
   "cell_type": "markdown",
   "id": "noted-projector",
   "metadata": {},
   "source": [
    "## This notebook is to explore a possible strategy which tracks changes in individual coin market caps vs aggregate crypto market cap"
   ]
  },
  {
   "cell_type": "markdown",
   "id": "honey-bridal",
   "metadata": {},
   "source": [
    "#### Q: How concentrated towards the top few coins is the crypto market cap?"
   ]
  },
  {
   "cell_type": "code",
   "execution_count": 17,
   "id": "outdoor-sherman",
   "metadata": {},
   "outputs": [],
   "source": [
    "import os\n",
    "import sys\n",
    "sys.path.append(os.path.split(os.path.abspath(''))[0])\n",
    "\n",
    "import pickle as pkl\n",
    "import numpy as np\n",
    "import matplotlib.pyplot as plt\n",
    "\n",
    "from Coin_Gecko_API.advanced_calls import get_current_market_data"
   ]
  },
  {
   "cell_type": "code",
   "execution_count": 2,
   "id": "continued-doubt",
   "metadata": {},
   "outputs": [
    {
     "name": "stdout",
     "output_type": "stream",
     "text": [
      "WOO HERES THE RESPONSE!!!: 200\n",
      "CUR LENGTH OF RESULTS:  250\n",
      "SLEEPING FOR 6.5 SECONDS\n",
      "WOO HERES THE RESPONSE!!!: 200\n",
      "CUR LENGTH OF RESULTS:  500\n",
      "SLEEPING FOR 6.5 SECONDS\n",
      "WOO HERES THE RESPONSE!!!: 200\n",
      "CUR LENGTH OF RESULTS:  750\n",
      "SLEEPING FOR 6.5 SECONDS\n",
      "WOO HERES THE RESPONSE!!!: 200\n",
      "CUR LENGTH OF RESULTS:  1000\n",
      "SLEEPING FOR 6.5 SECONDS\n",
      "WOO HERES THE RESPONSE!!!: 429\n",
      "Failed API Call on URL:  https://api.coingecko.com/api/v3/coins/markets?vs_currency=usd&order=market_cap_desc&per_page=250&page=5&sparkline=false&locale=en&precision=18\n",
      "Bad Status Code: 429\n",
      "Too Many Requests to CoinGecko... Upping Sleep Time\n",
      "SLEEPING FOR 9 SECONDS\n"
     ]
    },
    {
     "name": "stderr",
     "output_type": "stream",
     "text": [
      "Traceback (most recent call last):\n",
      "  File \"C:\\Users\\riggi\\Projects\\Crypto_Day_Trading\\API_Utils\\API_Calls.py\", line 34, in _rest_api_call\n",
      "    raise(TooManyRequestsException(url=url, response_code=r.status_code))\n",
      "API_Utils.Response_Exceptions.TooManyRequestsException\n"
     ]
    },
    {
     "name": "stdout",
     "output_type": "stream",
     "text": [
      "WOO HERES THE RESPONSE!!!: 429\n",
      "Failed API Call on URL:  https://api.coingecko.com/api/v3/coins/markets?vs_currency=usd&order=market_cap_desc&per_page=250&page=5&sparkline=false&locale=en&precision=18\n",
      "Bad Status Code: 429\n",
      "Too Many Requests to CoinGecko... Upping Sleep Time\n",
      "SLEEPING FOR 13 SECONDS\n"
     ]
    },
    {
     "name": "stderr",
     "output_type": "stream",
     "text": [
      "Traceback (most recent call last):\n",
      "  File \"C:\\Users\\riggi\\Projects\\Crypto_Day_Trading\\API_Utils\\API_Calls.py\", line 34, in _rest_api_call\n",
      "    raise(TooManyRequestsException(url=url, response_code=r.status_code))\n",
      "API_Utils.Response_Exceptions.TooManyRequestsException\n"
     ]
    },
    {
     "name": "stdout",
     "output_type": "stream",
     "text": [
      "WOO HERES THE RESPONSE!!!: 429\n",
      "Failed API Call on URL:  https://api.coingecko.com/api/v3/coins/markets?vs_currency=usd&order=market_cap_desc&per_page=250&page=5&sparkline=false&locale=en&precision=18\n",
      "Bad Status Code: 429\n",
      "Too Many Requests to CoinGecko... Upping Sleep Time\n",
      "SLEEPING FOR 19 SECONDS\n"
     ]
    },
    {
     "name": "stderr",
     "output_type": "stream",
     "text": [
      "Traceback (most recent call last):\n",
      "  File \"C:\\Users\\riggi\\Projects\\Crypto_Day_Trading\\API_Utils\\API_Calls.py\", line 34, in _rest_api_call\n",
      "    raise(TooManyRequestsException(url=url, response_code=r.status_code))\n",
      "API_Utils.Response_Exceptions.TooManyRequestsException\n"
     ]
    },
    {
     "name": "stdout",
     "output_type": "stream",
     "text": [
      "WOO HERES THE RESPONSE!!!: 429\n",
      "Failed API Call on URL:  https://api.coingecko.com/api/v3/coins/markets?vs_currency=usd&order=market_cap_desc&per_page=250&page=5&sparkline=false&locale=en&precision=18\n",
      "Bad Status Code: 429\n",
      "Too Many Requests to CoinGecko... Upping Sleep Time\n",
      "SLEEPING FOR 28 SECONDS\n"
     ]
    },
    {
     "name": "stderr",
     "output_type": "stream",
     "text": [
      "Traceback (most recent call last):\n",
      "  File \"C:\\Users\\riggi\\Projects\\Crypto_Day_Trading\\API_Utils\\API_Calls.py\", line 34, in _rest_api_call\n",
      "    raise(TooManyRequestsException(url=url, response_code=r.status_code))\n",
      "API_Utils.Response_Exceptions.TooManyRequestsException\n"
     ]
    },
    {
     "name": "stdout",
     "output_type": "stream",
     "text": [
      "WOO HERES THE RESPONSE!!!: 429\n",
      "Failed API Call on URL:  https://api.coingecko.com/api/v3/coins/markets?vs_currency=usd&order=market_cap_desc&per_page=250&page=5&sparkline=false&locale=en&precision=18\n",
      "Bad Status Code: 429\n",
      "Too Many Requests to CoinGecko... Upping Sleep Time\n",
      "SLEEPING FOR 42 SECONDS\n"
     ]
    },
    {
     "name": "stderr",
     "output_type": "stream",
     "text": [
      "Traceback (most recent call last):\n",
      "  File \"C:\\Users\\riggi\\Projects\\Crypto_Day_Trading\\API_Utils\\API_Calls.py\", line 34, in _rest_api_call\n",
      "    raise(TooManyRequestsException(url=url, response_code=r.status_code))\n",
      "API_Utils.Response_Exceptions.TooManyRequestsException\n"
     ]
    },
    {
     "name": "stdout",
     "output_type": "stream",
     "text": [
      "WOO HERES THE RESPONSE!!!: 429\n",
      "Failed API Call on URL:  https://api.coingecko.com/api/v3/coins/markets?vs_currency=usd&order=market_cap_desc&per_page=250&page=5&sparkline=false&locale=en&precision=18\n",
      "Bad Status Code: 429\n",
      "Too Many Requests to CoinGecko... Upping Sleep Time\n",
      "SLEEPING FOR 63 SECONDS\n"
     ]
    },
    {
     "name": "stderr",
     "output_type": "stream",
     "text": [
      "Traceback (most recent call last):\n",
      "  File \"C:\\Users\\riggi\\Projects\\Crypto_Day_Trading\\API_Utils\\API_Calls.py\", line 34, in _rest_api_call\n",
      "    raise(TooManyRequestsException(url=url, response_code=r.status_code))\n",
      "API_Utils.Response_Exceptions.TooManyRequestsException\n"
     ]
    },
    {
     "name": "stdout",
     "output_type": "stream",
     "text": [
      "WOO HERES THE RESPONSE!!!: 429\n",
      "Failed API Call on URL:  https://api.coingecko.com/api/v3/coins/markets?vs_currency=usd&order=market_cap_desc&per_page=250&page=5&sparkline=false&locale=en&precision=18\n",
      "Bad Status Code: 429\n",
      "Too Many Requests to CoinGecko... Upping Sleep Time\n",
      "SLEEPING FOR 94 SECONDS\n"
     ]
    },
    {
     "name": "stderr",
     "output_type": "stream",
     "text": [
      "Traceback (most recent call last):\n",
      "  File \"C:\\Users\\riggi\\Projects\\Crypto_Day_Trading\\API_Utils\\API_Calls.py\", line 34, in _rest_api_call\n",
      "    raise(TooManyRequestsException(url=url, response_code=r.status_code))\n",
      "API_Utils.Response_Exceptions.TooManyRequestsException\n"
     ]
    },
    {
     "name": "stdout",
     "output_type": "stream",
     "text": [
      "WOO HERES THE RESPONSE!!!: 429\n",
      "Failed API Call on URL:  https://api.coingecko.com/api/v3/coins/markets?vs_currency=usd&order=market_cap_desc&per_page=250&page=5&sparkline=false&locale=en&precision=18\n",
      "Bad Status Code: 429\n",
      "Too Many Requests to CoinGecko... Upping Sleep Time\n",
      "SLEEPING FOR 141 SECONDS\n"
     ]
    },
    {
     "name": "stderr",
     "output_type": "stream",
     "text": [
      "Traceback (most recent call last):\n",
      "  File \"C:\\Users\\riggi\\Projects\\Crypto_Day_Trading\\API_Utils\\API_Calls.py\", line 34, in _rest_api_call\n",
      "    raise(TooManyRequestsException(url=url, response_code=r.status_code))\n",
      "API_Utils.Response_Exceptions.TooManyRequestsException\n"
     ]
    },
    {
     "name": "stdout",
     "output_type": "stream",
     "text": [
      "WOO HERES THE RESPONSE!!!: 429\n",
      "Failed API Call on URL:  https://api.coingecko.com/api/v3/coins/markets?vs_currency=usd&order=market_cap_desc&per_page=250&page=5&sparkline=false&locale=en&precision=18\n",
      "Bad Status Code: 429\n",
      "Too Many Requests to CoinGecko... Upping Sleep Time\n",
      "SLEEPING FOR 211 SECONDS\n"
     ]
    },
    {
     "name": "stderr",
     "output_type": "stream",
     "text": [
      "Traceback (most recent call last):\n",
      "  File \"C:\\Users\\riggi\\Projects\\Crypto_Day_Trading\\API_Utils\\API_Calls.py\", line 34, in _rest_api_call\n",
      "    raise(TooManyRequestsException(url=url, response_code=r.status_code))\n",
      "API_Utils.Response_Exceptions.TooManyRequestsException\n"
     ]
    },
    {
     "name": "stdout",
     "output_type": "stream",
     "text": [
      "WOO HERES THE RESPONSE!!!: 200\n",
      "CUR LENGTH OF RESULTS:  1250\n",
      "SLEEPING FOR 6.5 SECONDS\n",
      "WOO HERES THE RESPONSE!!!: 200\n",
      "CUR LENGTH OF RESULTS:  1500\n",
      "SLEEPING FOR 6.5 SECONDS\n",
      "WOO HERES THE RESPONSE!!!: 200\n",
      "CUR LENGTH OF RESULTS:  1750\n",
      "SLEEPING FOR 6.5 SECONDS\n",
      "WOO HERES THE RESPONSE!!!: 429\n",
      "Failed API Call on URL:  https://api.coingecko.com/api/v3/coins/markets?vs_currency=usd&order=market_cap_desc&per_page=250&page=8&sparkline=false&locale=en&precision=18\n",
      "Bad Status Code: 429\n",
      "Too Many Requests to CoinGecko... Upping Sleep Time\n",
      "SLEEPING FOR 9 SECONDS\n"
     ]
    },
    {
     "name": "stderr",
     "output_type": "stream",
     "text": [
      "Traceback (most recent call last):\n",
      "  File \"C:\\Users\\riggi\\Projects\\Crypto_Day_Trading\\API_Utils\\API_Calls.py\", line 34, in _rest_api_call\n",
      "    raise(TooManyRequestsException(url=url, response_code=r.status_code))\n",
      "API_Utils.Response_Exceptions.TooManyRequestsException\n"
     ]
    },
    {
     "name": "stdout",
     "output_type": "stream",
     "text": [
      "WOO HERES THE RESPONSE!!!: 429\n",
      "Failed API Call on URL:  https://api.coingecko.com/api/v3/coins/markets?vs_currency=usd&order=market_cap_desc&per_page=250&page=8&sparkline=false&locale=en&precision=18\n",
      "Bad Status Code: 429\n",
      "Too Many Requests to CoinGecko... Upping Sleep Time\n",
      "SLEEPING FOR 13 SECONDS\n"
     ]
    },
    {
     "name": "stderr",
     "output_type": "stream",
     "text": [
      "Traceback (most recent call last):\n",
      "  File \"C:\\Users\\riggi\\Projects\\Crypto_Day_Trading\\API_Utils\\API_Calls.py\", line 34, in _rest_api_call\n",
      "    raise(TooManyRequestsException(url=url, response_code=r.status_code))\n",
      "API_Utils.Response_Exceptions.TooManyRequestsException\n"
     ]
    },
    {
     "name": "stdout",
     "output_type": "stream",
     "text": [
      "WOO HERES THE RESPONSE!!!: 429\n",
      "Failed API Call on URL:  https://api.coingecko.com/api/v3/coins/markets?vs_currency=usd&order=market_cap_desc&per_page=250&page=8&sparkline=false&locale=en&precision=18\n",
      "Bad Status Code: 429\n",
      "Too Many Requests to CoinGecko... Upping Sleep Time\n",
      "SLEEPING FOR 19 SECONDS\n"
     ]
    },
    {
     "name": "stderr",
     "output_type": "stream",
     "text": [
      "Traceback (most recent call last):\n",
      "  File \"C:\\Users\\riggi\\Projects\\Crypto_Day_Trading\\API_Utils\\API_Calls.py\", line 34, in _rest_api_call\n",
      "    raise(TooManyRequestsException(url=url, response_code=r.status_code))\n",
      "API_Utils.Response_Exceptions.TooManyRequestsException\n"
     ]
    },
    {
     "name": "stdout",
     "output_type": "stream",
     "text": [
      "WOO HERES THE RESPONSE!!!: 429\n",
      "Failed API Call on URL:  https://api.coingecko.com/api/v3/coins/markets?vs_currency=usd&order=market_cap_desc&per_page=250&page=8&sparkline=false&locale=en&precision=18\n",
      "Bad Status Code: 429\n",
      "Too Many Requests to CoinGecko... Upping Sleep Time\n",
      "SLEEPING FOR 28 SECONDS\n"
     ]
    },
    {
     "name": "stderr",
     "output_type": "stream",
     "text": [
      "Traceback (most recent call last):\n",
      "  File \"C:\\Users\\riggi\\Projects\\Crypto_Day_Trading\\API_Utils\\API_Calls.py\", line 34, in _rest_api_call\n",
      "    raise(TooManyRequestsException(url=url, response_code=r.status_code))\n",
      "API_Utils.Response_Exceptions.TooManyRequestsException\n"
     ]
    },
    {
     "name": "stdout",
     "output_type": "stream",
     "text": [
      "WOO HERES THE RESPONSE!!!: 429\n",
      "Failed API Call on URL:  https://api.coingecko.com/api/v3/coins/markets?vs_currency=usd&order=market_cap_desc&per_page=250&page=8&sparkline=false&locale=en&precision=18\n",
      "Bad Status Code: 429\n",
      "Too Many Requests to CoinGecko... Upping Sleep Time\n",
      "SLEEPING FOR 42 SECONDS\n"
     ]
    },
    {
     "name": "stderr",
     "output_type": "stream",
     "text": [
      "Traceback (most recent call last):\n",
      "  File \"C:\\Users\\riggi\\Projects\\Crypto_Day_Trading\\API_Utils\\API_Calls.py\", line 34, in _rest_api_call\n",
      "    raise(TooManyRequestsException(url=url, response_code=r.status_code))\n",
      "API_Utils.Response_Exceptions.TooManyRequestsException\n"
     ]
    },
    {
     "name": "stdout",
     "output_type": "stream",
     "text": [
      "WOO HERES THE RESPONSE!!!: 429\n",
      "Failed API Call on URL:  https://api.coingecko.com/api/v3/coins/markets?vs_currency=usd&order=market_cap_desc&per_page=250&page=8&sparkline=false&locale=en&precision=18\n",
      "Bad Status Code: 429\n",
      "Too Many Requests to CoinGecko... Upping Sleep Time\n",
      "SLEEPING FOR 63 SECONDS\n"
     ]
    },
    {
     "name": "stderr",
     "output_type": "stream",
     "text": [
      "Traceback (most recent call last):\n",
      "  File \"C:\\Users\\riggi\\Projects\\Crypto_Day_Trading\\API_Utils\\API_Calls.py\", line 34, in _rest_api_call\n",
      "    raise(TooManyRequestsException(url=url, response_code=r.status_code))\n",
      "API_Utils.Response_Exceptions.TooManyRequestsException\n"
     ]
    },
    {
     "name": "stdout",
     "output_type": "stream",
     "text": [
      "WOO HERES THE RESPONSE!!!: 429\n",
      "Failed API Call on URL:  https://api.coingecko.com/api/v3/coins/markets?vs_currency=usd&order=market_cap_desc&per_page=250&page=8&sparkline=false&locale=en&precision=18\n",
      "Bad Status Code: 429\n",
      "Too Many Requests to CoinGecko... Upping Sleep Time\n",
      "SLEEPING FOR 94 SECONDS\n"
     ]
    },
    {
     "name": "stderr",
     "output_type": "stream",
     "text": [
      "Traceback (most recent call last):\n",
      "  File \"C:\\Users\\riggi\\Projects\\Crypto_Day_Trading\\API_Utils\\API_Calls.py\", line 34, in _rest_api_call\n",
      "    raise(TooManyRequestsException(url=url, response_code=r.status_code))\n",
      "API_Utils.Response_Exceptions.TooManyRequestsException\n"
     ]
    },
    {
     "name": "stdout",
     "output_type": "stream",
     "text": [
      "WOO HERES THE RESPONSE!!!: 429\n",
      "Failed API Call on URL:  https://api.coingecko.com/api/v3/coins/markets?vs_currency=usd&order=market_cap_desc&per_page=250&page=8&sparkline=false&locale=en&precision=18\n",
      "Bad Status Code: 429\n",
      "Too Many Requests to CoinGecko... Upping Sleep Time\n",
      "SLEEPING FOR 141 SECONDS\n"
     ]
    },
    {
     "name": "stderr",
     "output_type": "stream",
     "text": [
      "Traceback (most recent call last):\n",
      "  File \"C:\\Users\\riggi\\Projects\\Crypto_Day_Trading\\API_Utils\\API_Calls.py\", line 34, in _rest_api_call\n",
      "    raise(TooManyRequestsException(url=url, response_code=r.status_code))\n",
      "API_Utils.Response_Exceptions.TooManyRequestsException\n"
     ]
    },
    {
     "name": "stdout",
     "output_type": "stream",
     "text": [
      "WOO HERES THE RESPONSE!!!: 429\n",
      "Failed API Call on URL:  https://api.coingecko.com/api/v3/coins/markets?vs_currency=usd&order=market_cap_desc&per_page=250&page=8&sparkline=false&locale=en&precision=18\n",
      "Bad Status Code: 429\n",
      "Too Many Requests to CoinGecko... Upping Sleep Time\n",
      "SLEEPING FOR 211 SECONDS\n"
     ]
    },
    {
     "name": "stderr",
     "output_type": "stream",
     "text": [
      "Traceback (most recent call last):\n",
      "  File \"C:\\Users\\riggi\\Projects\\Crypto_Day_Trading\\API_Utils\\API_Calls.py\", line 34, in _rest_api_call\n",
      "    raise(TooManyRequestsException(url=url, response_code=r.status_code))\n",
      "API_Utils.Response_Exceptions.TooManyRequestsException\n"
     ]
    },
    {
     "name": "stdout",
     "output_type": "stream",
     "text": [
      "WOO HERES THE RESPONSE!!!: 200\n",
      "CUR LENGTH OF RESULTS:  2000\n",
      "SLEEPING FOR 6.5 SECONDS\n",
      "WOO HERES THE RESPONSE!!!: 200\n",
      "CUR LENGTH OF RESULTS:  2250\n",
      "SLEEPING FOR 6.5 SECONDS\n",
      "WOO HERES THE RESPONSE!!!: 200\n",
      "CUR LENGTH OF RESULTS:  2500\n",
      "SLEEPING FOR 6.5 SECONDS\n",
      "WOO HERES THE RESPONSE!!!: 429\n",
      "Failed API Call on URL:  https://api.coingecko.com/api/v3/coins/markets?vs_currency=usd&order=market_cap_desc&per_page=250&page=11&sparkline=false&locale=en&precision=18\n",
      "Bad Status Code: 429\n",
      "Too Many Requests to CoinGecko... Upping Sleep Time\n",
      "SLEEPING FOR 9 SECONDS\n"
     ]
    },
    {
     "name": "stderr",
     "output_type": "stream",
     "text": [
      "Traceback (most recent call last):\n",
      "  File \"C:\\Users\\riggi\\Projects\\Crypto_Day_Trading\\API_Utils\\API_Calls.py\", line 34, in _rest_api_call\n",
      "    raise(TooManyRequestsException(url=url, response_code=r.status_code))\n",
      "API_Utils.Response_Exceptions.TooManyRequestsException\n"
     ]
    },
    {
     "name": "stdout",
     "output_type": "stream",
     "text": [
      "WOO HERES THE RESPONSE!!!: 429\n",
      "Failed API Call on URL:  https://api.coingecko.com/api/v3/coins/markets?vs_currency=usd&order=market_cap_desc&per_page=250&page=11&sparkline=false&locale=en&precision=18\n",
      "Bad Status Code: 429\n",
      "Too Many Requests to CoinGecko... Upping Sleep Time\n",
      "SLEEPING FOR 13 SECONDS\n"
     ]
    },
    {
     "name": "stderr",
     "output_type": "stream",
     "text": [
      "Traceback (most recent call last):\n",
      "  File \"C:\\Users\\riggi\\Projects\\Crypto_Day_Trading\\API_Utils\\API_Calls.py\", line 34, in _rest_api_call\n",
      "    raise(TooManyRequestsException(url=url, response_code=r.status_code))\n",
      "API_Utils.Response_Exceptions.TooManyRequestsException\n"
     ]
    },
    {
     "name": "stdout",
     "output_type": "stream",
     "text": [
      "WOO HERES THE RESPONSE!!!: 429\n",
      "Failed API Call on URL:  https://api.coingecko.com/api/v3/coins/markets?vs_currency=usd&order=market_cap_desc&per_page=250&page=11&sparkline=false&locale=en&precision=18\n",
      "Bad Status Code: 429\n",
      "Too Many Requests to CoinGecko... Upping Sleep Time\n",
      "SLEEPING FOR 19 SECONDS\n"
     ]
    },
    {
     "name": "stderr",
     "output_type": "stream",
     "text": [
      "Traceback (most recent call last):\n",
      "  File \"C:\\Users\\riggi\\Projects\\Crypto_Day_Trading\\API_Utils\\API_Calls.py\", line 34, in _rest_api_call\n",
      "    raise(TooManyRequestsException(url=url, response_code=r.status_code))\n",
      "API_Utils.Response_Exceptions.TooManyRequestsException\n"
     ]
    },
    {
     "name": "stdout",
     "output_type": "stream",
     "text": [
      "WOO HERES THE RESPONSE!!!: 429\n",
      "Failed API Call on URL:  https://api.coingecko.com/api/v3/coins/markets?vs_currency=usd&order=market_cap_desc&per_page=250&page=11&sparkline=false&locale=en&precision=18\n",
      "Bad Status Code: 429\n",
      "Too Many Requests to CoinGecko... Upping Sleep Time\n",
      "SLEEPING FOR 28 SECONDS\n"
     ]
    },
    {
     "name": "stderr",
     "output_type": "stream",
     "text": [
      "Traceback (most recent call last):\n",
      "  File \"C:\\Users\\riggi\\Projects\\Crypto_Day_Trading\\API_Utils\\API_Calls.py\", line 34, in _rest_api_call\n",
      "    raise(TooManyRequestsException(url=url, response_code=r.status_code))\n",
      "API_Utils.Response_Exceptions.TooManyRequestsException\n"
     ]
    },
    {
     "name": "stdout",
     "output_type": "stream",
     "text": [
      "WOO HERES THE RESPONSE!!!: 429\n",
      "Failed API Call on URL:  https://api.coingecko.com/api/v3/coins/markets?vs_currency=usd&order=market_cap_desc&per_page=250&page=11&sparkline=false&locale=en&precision=18\n",
      "Bad Status Code: 429\n",
      "Too Many Requests to CoinGecko... Upping Sleep Time\n",
      "SLEEPING FOR 42 SECONDS\n"
     ]
    },
    {
     "name": "stderr",
     "output_type": "stream",
     "text": [
      "Traceback (most recent call last):\n",
      "  File \"C:\\Users\\riggi\\Projects\\Crypto_Day_Trading\\API_Utils\\API_Calls.py\", line 34, in _rest_api_call\n",
      "    raise(TooManyRequestsException(url=url, response_code=r.status_code))\n",
      "API_Utils.Response_Exceptions.TooManyRequestsException\n"
     ]
    },
    {
     "name": "stdout",
     "output_type": "stream",
     "text": [
      "WOO HERES THE RESPONSE!!!: 429\n",
      "Failed API Call on URL:  https://api.coingecko.com/api/v3/coins/markets?vs_currency=usd&order=market_cap_desc&per_page=250&page=11&sparkline=false&locale=en&precision=18\n",
      "Bad Status Code: 429\n",
      "Too Many Requests to CoinGecko... Upping Sleep Time\n",
      "SLEEPING FOR 63 SECONDS\n"
     ]
    },
    {
     "name": "stderr",
     "output_type": "stream",
     "text": [
      "Traceback (most recent call last):\n",
      "  File \"C:\\Users\\riggi\\Projects\\Crypto_Day_Trading\\API_Utils\\API_Calls.py\", line 34, in _rest_api_call\n",
      "    raise(TooManyRequestsException(url=url, response_code=r.status_code))\n",
      "API_Utils.Response_Exceptions.TooManyRequestsException\n"
     ]
    },
    {
     "name": "stdout",
     "output_type": "stream",
     "text": [
      "WOO HERES THE RESPONSE!!!: 429\n",
      "Failed API Call on URL:  https://api.coingecko.com/api/v3/coins/markets?vs_currency=usd&order=market_cap_desc&per_page=250&page=11&sparkline=false&locale=en&precision=18\n",
      "Bad Status Code: 429\n",
      "Too Many Requests to CoinGecko... Upping Sleep Time\n",
      "SLEEPING FOR 94 SECONDS\n"
     ]
    },
    {
     "name": "stderr",
     "output_type": "stream",
     "text": [
      "Traceback (most recent call last):\n",
      "  File \"C:\\Users\\riggi\\Projects\\Crypto_Day_Trading\\API_Utils\\API_Calls.py\", line 34, in _rest_api_call\n",
      "    raise(TooManyRequestsException(url=url, response_code=r.status_code))\n",
      "API_Utils.Response_Exceptions.TooManyRequestsException\n"
     ]
    },
    {
     "name": "stdout",
     "output_type": "stream",
     "text": [
      "WOO HERES THE RESPONSE!!!: 429\n",
      "Failed API Call on URL:  https://api.coingecko.com/api/v3/coins/markets?vs_currency=usd&order=market_cap_desc&per_page=250&page=11&sparkline=false&locale=en&precision=18\n",
      "Bad Status Code: 429\n",
      "Too Many Requests to CoinGecko... Upping Sleep Time\n",
      "SLEEPING FOR 141 SECONDS\n"
     ]
    },
    {
     "name": "stderr",
     "output_type": "stream",
     "text": [
      "Traceback (most recent call last):\n",
      "  File \"C:\\Users\\riggi\\Projects\\Crypto_Day_Trading\\API_Utils\\API_Calls.py\", line 34, in _rest_api_call\n",
      "    raise(TooManyRequestsException(url=url, response_code=r.status_code))\n",
      "API_Utils.Response_Exceptions.TooManyRequestsException\n"
     ]
    },
    {
     "name": "stdout",
     "output_type": "stream",
     "text": [
      "WOO HERES THE RESPONSE!!!: 429\n",
      "Failed API Call on URL:  https://api.coingecko.com/api/v3/coins/markets?vs_currency=usd&order=market_cap_desc&per_page=250&page=11&sparkline=false&locale=en&precision=18\n",
      "Bad Status Code: 429\n",
      "Too Many Requests to CoinGecko... Upping Sleep Time\n",
      "SLEEPING FOR 211 SECONDS\n"
     ]
    },
    {
     "name": "stderr",
     "output_type": "stream",
     "text": [
      "Traceback (most recent call last):\n",
      "  File \"C:\\Users\\riggi\\Projects\\Crypto_Day_Trading\\API_Utils\\API_Calls.py\", line 34, in _rest_api_call\n",
      "    raise(TooManyRequestsException(url=url, response_code=r.status_code))\n",
      "API_Utils.Response_Exceptions.TooManyRequestsException\n"
     ]
    },
    {
     "name": "stdout",
     "output_type": "stream",
     "text": [
      "WOO HERES THE RESPONSE!!!: 200\n",
      "CUR LENGTH OF RESULTS:  2750\n",
      "SLEEPING FOR 6.5 SECONDS\n",
      "WOO HERES THE RESPONSE!!!: 200\n",
      "CUR LENGTH OF RESULTS:  3000\n",
      "SLEEPING FOR 6.5 SECONDS\n",
      "WOO HERES THE RESPONSE!!!: 200\n",
      "CUR LENGTH OF RESULTS:  3250\n",
      "SLEEPING FOR 6.5 SECONDS\n",
      "WOO HERES THE RESPONSE!!!: 429\n",
      "Failed API Call on URL:  https://api.coingecko.com/api/v3/coins/markets?vs_currency=usd&order=market_cap_desc&per_page=250&page=14&sparkline=false&locale=en&precision=18\n",
      "Bad Status Code: 429\n",
      "Too Many Requests to CoinGecko... Upping Sleep Time\n",
      "SLEEPING FOR 9 SECONDS\n"
     ]
    },
    {
     "name": "stderr",
     "output_type": "stream",
     "text": [
      "Traceback (most recent call last):\n",
      "  File \"C:\\Users\\riggi\\Projects\\Crypto_Day_Trading\\API_Utils\\API_Calls.py\", line 34, in _rest_api_call\n",
      "    raise(TooManyRequestsException(url=url, response_code=r.status_code))\n",
      "API_Utils.Response_Exceptions.TooManyRequestsException\n"
     ]
    },
    {
     "name": "stdout",
     "output_type": "stream",
     "text": [
      "WOO HERES THE RESPONSE!!!: 429\n",
      "Failed API Call on URL:  https://api.coingecko.com/api/v3/coins/markets?vs_currency=usd&order=market_cap_desc&per_page=250&page=14&sparkline=false&locale=en&precision=18\n",
      "Bad Status Code: 429\n",
      "Too Many Requests to CoinGecko... Upping Sleep Time\n",
      "SLEEPING FOR 13 SECONDS\n"
     ]
    },
    {
     "name": "stderr",
     "output_type": "stream",
     "text": [
      "Traceback (most recent call last):\n",
      "  File \"C:\\Users\\riggi\\Projects\\Crypto_Day_Trading\\API_Utils\\API_Calls.py\", line 34, in _rest_api_call\n",
      "    raise(TooManyRequestsException(url=url, response_code=r.status_code))\n",
      "API_Utils.Response_Exceptions.TooManyRequestsException\n"
     ]
    },
    {
     "name": "stdout",
     "output_type": "stream",
     "text": [
      "WOO HERES THE RESPONSE!!!: 429\n",
      "Failed API Call on URL:  https://api.coingecko.com/api/v3/coins/markets?vs_currency=usd&order=market_cap_desc&per_page=250&page=14&sparkline=false&locale=en&precision=18\n",
      "Bad Status Code: 429\n",
      "Too Many Requests to CoinGecko... Upping Sleep Time\n",
      "SLEEPING FOR 19 SECONDS\n"
     ]
    },
    {
     "name": "stderr",
     "output_type": "stream",
     "text": [
      "Traceback (most recent call last):\n",
      "  File \"C:\\Users\\riggi\\Projects\\Crypto_Day_Trading\\API_Utils\\API_Calls.py\", line 34, in _rest_api_call\n",
      "    raise(TooManyRequestsException(url=url, response_code=r.status_code))\n",
      "API_Utils.Response_Exceptions.TooManyRequestsException\n"
     ]
    },
    {
     "name": "stdout",
     "output_type": "stream",
     "text": [
      "WOO HERES THE RESPONSE!!!: 429\n",
      "Failed API Call on URL:  https://api.coingecko.com/api/v3/coins/markets?vs_currency=usd&order=market_cap_desc&per_page=250&page=14&sparkline=false&locale=en&precision=18\n",
      "Bad Status Code: 429\n",
      "Too Many Requests to CoinGecko... Upping Sleep Time\n",
      "SLEEPING FOR 28 SECONDS\n"
     ]
    },
    {
     "name": "stderr",
     "output_type": "stream",
     "text": [
      "Traceback (most recent call last):\n",
      "  File \"C:\\Users\\riggi\\Projects\\Crypto_Day_Trading\\API_Utils\\API_Calls.py\", line 34, in _rest_api_call\n",
      "    raise(TooManyRequestsException(url=url, response_code=r.status_code))\n",
      "API_Utils.Response_Exceptions.TooManyRequestsException\n"
     ]
    },
    {
     "name": "stdout",
     "output_type": "stream",
     "text": [
      "WOO HERES THE RESPONSE!!!: 429\n",
      "Failed API Call on URL:  https://api.coingecko.com/api/v3/coins/markets?vs_currency=usd&order=market_cap_desc&per_page=250&page=14&sparkline=false&locale=en&precision=18\n",
      "Bad Status Code: 429\n",
      "Too Many Requests to CoinGecko... Upping Sleep Time\n",
      "SLEEPING FOR 42 SECONDS\n"
     ]
    },
    {
     "name": "stderr",
     "output_type": "stream",
     "text": [
      "Traceback (most recent call last):\n",
      "  File \"C:\\Users\\riggi\\Projects\\Crypto_Day_Trading\\API_Utils\\API_Calls.py\", line 34, in _rest_api_call\n",
      "    raise(TooManyRequestsException(url=url, response_code=r.status_code))\n",
      "API_Utils.Response_Exceptions.TooManyRequestsException\n"
     ]
    },
    {
     "name": "stdout",
     "output_type": "stream",
     "text": [
      "WOO HERES THE RESPONSE!!!: 429\n",
      "Failed API Call on URL:  https://api.coingecko.com/api/v3/coins/markets?vs_currency=usd&order=market_cap_desc&per_page=250&page=14&sparkline=false&locale=en&precision=18\n",
      "Bad Status Code: 429\n",
      "Too Many Requests to CoinGecko... Upping Sleep Time\n",
      "SLEEPING FOR 63 SECONDS\n"
     ]
    },
    {
     "name": "stderr",
     "output_type": "stream",
     "text": [
      "Traceback (most recent call last):\n",
      "  File \"C:\\Users\\riggi\\Projects\\Crypto_Day_Trading\\API_Utils\\API_Calls.py\", line 34, in _rest_api_call\n",
      "    raise(TooManyRequestsException(url=url, response_code=r.status_code))\n",
      "API_Utils.Response_Exceptions.TooManyRequestsException\n"
     ]
    },
    {
     "name": "stdout",
     "output_type": "stream",
     "text": [
      "WOO HERES THE RESPONSE!!!: 429\n",
      "Failed API Call on URL:  https://api.coingecko.com/api/v3/coins/markets?vs_currency=usd&order=market_cap_desc&per_page=250&page=14&sparkline=false&locale=en&precision=18\n",
      "Bad Status Code: 429\n",
      "Too Many Requests to CoinGecko... Upping Sleep Time\n",
      "SLEEPING FOR 94 SECONDS\n"
     ]
    },
    {
     "name": "stderr",
     "output_type": "stream",
     "text": [
      "Traceback (most recent call last):\n",
      "  File \"C:\\Users\\riggi\\Projects\\Crypto_Day_Trading\\API_Utils\\API_Calls.py\", line 34, in _rest_api_call\n",
      "    raise(TooManyRequestsException(url=url, response_code=r.status_code))\n",
      "API_Utils.Response_Exceptions.TooManyRequestsException\n"
     ]
    },
    {
     "name": "stdout",
     "output_type": "stream",
     "text": [
      "WOO HERES THE RESPONSE!!!: 429\n",
      "Failed API Call on URL:  https://api.coingecko.com/api/v3/coins/markets?vs_currency=usd&order=market_cap_desc&per_page=250&page=14&sparkline=false&locale=en&precision=18\n",
      "Bad Status Code: 429\n",
      "Too Many Requests to CoinGecko... Upping Sleep Time\n",
      "SLEEPING FOR 141 SECONDS\n"
     ]
    },
    {
     "name": "stderr",
     "output_type": "stream",
     "text": [
      "Traceback (most recent call last):\n",
      "  File \"C:\\Users\\riggi\\Projects\\Crypto_Day_Trading\\API_Utils\\API_Calls.py\", line 34, in _rest_api_call\n",
      "    raise(TooManyRequestsException(url=url, response_code=r.status_code))\n",
      "API_Utils.Response_Exceptions.TooManyRequestsException\n"
     ]
    },
    {
     "name": "stdout",
     "output_type": "stream",
     "text": [
      "WOO HERES THE RESPONSE!!!: 429\n",
      "Failed API Call on URL:  https://api.coingecko.com/api/v3/coins/markets?vs_currency=usd&order=market_cap_desc&per_page=250&page=14&sparkline=false&locale=en&precision=18\n",
      "Bad Status Code: 429\n",
      "Too Many Requests to CoinGecko... Upping Sleep Time\n",
      "SLEEPING FOR 211 SECONDS\n"
     ]
    },
    {
     "name": "stderr",
     "output_type": "stream",
     "text": [
      "Traceback (most recent call last):\n",
      "  File \"C:\\Users\\riggi\\Projects\\Crypto_Day_Trading\\API_Utils\\API_Calls.py\", line 34, in _rest_api_call\n",
      "    raise(TooManyRequestsException(url=url, response_code=r.status_code))\n",
      "API_Utils.Response_Exceptions.TooManyRequestsException\n"
     ]
    },
    {
     "name": "stdout",
     "output_type": "stream",
     "text": [
      "WOO HERES THE RESPONSE!!!: 200\n",
      "CUR LENGTH OF RESULTS:  3500\n",
      "SLEEPING FOR 6.5 SECONDS\n",
      "WOO HERES THE RESPONSE!!!: 200\n",
      "CUR LENGTH OF RESULTS:  3750\n",
      "SLEEPING FOR 6.5 SECONDS\n",
      "WOO HERES THE RESPONSE!!!: 200\n",
      "CUR LENGTH OF RESULTS:  4000\n",
      "SLEEPING FOR 6.5 SECONDS\n",
      "WOO HERES THE RESPONSE!!!: 200\n",
      "CUR LENGTH OF RESULTS:  4250\n",
      "SLEEPING FOR 6.5 SECONDS\n",
      "WOO HERES THE RESPONSE!!!: 429\n",
      "Failed API Call on URL:  https://api.coingecko.com/api/v3/coins/markets?vs_currency=usd&order=market_cap_desc&per_page=250&page=18&sparkline=false&locale=en&precision=18\n",
      "Bad Status Code: 429\n",
      "Too Many Requests to CoinGecko... Upping Sleep Time\n",
      "SLEEPING FOR 9 SECONDS\n"
     ]
    },
    {
     "name": "stderr",
     "output_type": "stream",
     "text": [
      "Traceback (most recent call last):\n",
      "  File \"C:\\Users\\riggi\\Projects\\Crypto_Day_Trading\\API_Utils\\API_Calls.py\", line 34, in _rest_api_call\n",
      "    raise(TooManyRequestsException(url=url, response_code=r.status_code))\n",
      "API_Utils.Response_Exceptions.TooManyRequestsException\n"
     ]
    },
    {
     "name": "stdout",
     "output_type": "stream",
     "text": [
      "WOO HERES THE RESPONSE!!!: 429\n",
      "Failed API Call on URL:  https://api.coingecko.com/api/v3/coins/markets?vs_currency=usd&order=market_cap_desc&per_page=250&page=18&sparkline=false&locale=en&precision=18\n",
      "Bad Status Code: 429\n",
      "Too Many Requests to CoinGecko... Upping Sleep Time\n",
      "SLEEPING FOR 13 SECONDS\n"
     ]
    },
    {
     "name": "stderr",
     "output_type": "stream",
     "text": [
      "Traceback (most recent call last):\n",
      "  File \"C:\\Users\\riggi\\Projects\\Crypto_Day_Trading\\API_Utils\\API_Calls.py\", line 34, in _rest_api_call\n",
      "    raise(TooManyRequestsException(url=url, response_code=r.status_code))\n",
      "API_Utils.Response_Exceptions.TooManyRequestsException\n"
     ]
    },
    {
     "name": "stdout",
     "output_type": "stream",
     "text": [
      "WOO HERES THE RESPONSE!!!: 429\n",
      "Failed API Call on URL:  https://api.coingecko.com/api/v3/coins/markets?vs_currency=usd&order=market_cap_desc&per_page=250&page=18&sparkline=false&locale=en&precision=18\n",
      "Bad Status Code: 429\n",
      "Too Many Requests to CoinGecko... Upping Sleep Time\n",
      "SLEEPING FOR 19 SECONDS\n"
     ]
    },
    {
     "name": "stderr",
     "output_type": "stream",
     "text": [
      "Traceback (most recent call last):\n",
      "  File \"C:\\Users\\riggi\\Projects\\Crypto_Day_Trading\\API_Utils\\API_Calls.py\", line 34, in _rest_api_call\n",
      "    raise(TooManyRequestsException(url=url, response_code=r.status_code))\n",
      "API_Utils.Response_Exceptions.TooManyRequestsException\n"
     ]
    },
    {
     "name": "stdout",
     "output_type": "stream",
     "text": [
      "WOO HERES THE RESPONSE!!!: 429\n",
      "Failed API Call on URL:  https://api.coingecko.com/api/v3/coins/markets?vs_currency=usd&order=market_cap_desc&per_page=250&page=18&sparkline=false&locale=en&precision=18\n",
      "Bad Status Code: 429\n",
      "Too Many Requests to CoinGecko... Upping Sleep Time\n",
      "SLEEPING FOR 28 SECONDS\n"
     ]
    },
    {
     "name": "stderr",
     "output_type": "stream",
     "text": [
      "Traceback (most recent call last):\n",
      "  File \"C:\\Users\\riggi\\Projects\\Crypto_Day_Trading\\API_Utils\\API_Calls.py\", line 34, in _rest_api_call\n",
      "    raise(TooManyRequestsException(url=url, response_code=r.status_code))\n",
      "API_Utils.Response_Exceptions.TooManyRequestsException\n"
     ]
    },
    {
     "name": "stdout",
     "output_type": "stream",
     "text": [
      "WOO HERES THE RESPONSE!!!: 429\n",
      "Failed API Call on URL:  https://api.coingecko.com/api/v3/coins/markets?vs_currency=usd&order=market_cap_desc&per_page=250&page=18&sparkline=false&locale=en&precision=18\n",
      "Bad Status Code: 429\n",
      "Too Many Requests to CoinGecko... Upping Sleep Time\n",
      "SLEEPING FOR 42 SECONDS\n"
     ]
    },
    {
     "name": "stderr",
     "output_type": "stream",
     "text": [
      "Traceback (most recent call last):\n",
      "  File \"C:\\Users\\riggi\\Projects\\Crypto_Day_Trading\\API_Utils\\API_Calls.py\", line 34, in _rest_api_call\n",
      "    raise(TooManyRequestsException(url=url, response_code=r.status_code))\n",
      "API_Utils.Response_Exceptions.TooManyRequestsException\n"
     ]
    },
    {
     "name": "stdout",
     "output_type": "stream",
     "text": [
      "WOO HERES THE RESPONSE!!!: 429\n",
      "Failed API Call on URL:  https://api.coingecko.com/api/v3/coins/markets?vs_currency=usd&order=market_cap_desc&per_page=250&page=18&sparkline=false&locale=en&precision=18\n",
      "Bad Status Code: 429\n",
      "Too Many Requests to CoinGecko... Upping Sleep Time\n",
      "SLEEPING FOR 63 SECONDS\n"
     ]
    },
    {
     "name": "stderr",
     "output_type": "stream",
     "text": [
      "Traceback (most recent call last):\n",
      "  File \"C:\\Users\\riggi\\Projects\\Crypto_Day_Trading\\API_Utils\\API_Calls.py\", line 34, in _rest_api_call\n",
      "    raise(TooManyRequestsException(url=url, response_code=r.status_code))\n",
      "API_Utils.Response_Exceptions.TooManyRequestsException\n"
     ]
    },
    {
     "name": "stdout",
     "output_type": "stream",
     "text": [
      "WOO HERES THE RESPONSE!!!: 429\n",
      "Failed API Call on URL:  https://api.coingecko.com/api/v3/coins/markets?vs_currency=usd&order=market_cap_desc&per_page=250&page=18&sparkline=false&locale=en&precision=18\n",
      "Bad Status Code: 429\n",
      "Too Many Requests to CoinGecko... Upping Sleep Time\n",
      "SLEEPING FOR 94 SECONDS\n"
     ]
    },
    {
     "name": "stderr",
     "output_type": "stream",
     "text": [
      "Traceback (most recent call last):\n",
      "  File \"C:\\Users\\riggi\\Projects\\Crypto_Day_Trading\\API_Utils\\API_Calls.py\", line 34, in _rest_api_call\n",
      "    raise(TooManyRequestsException(url=url, response_code=r.status_code))\n",
      "API_Utils.Response_Exceptions.TooManyRequestsException\n"
     ]
    },
    {
     "name": "stdout",
     "output_type": "stream",
     "text": [
      "WOO HERES THE RESPONSE!!!: 429\n",
      "Failed API Call on URL:  https://api.coingecko.com/api/v3/coins/markets?vs_currency=usd&order=market_cap_desc&per_page=250&page=18&sparkline=false&locale=en&precision=18\n",
      "Bad Status Code: 429\n",
      "Too Many Requests to CoinGecko... Upping Sleep Time\n",
      "SLEEPING FOR 141 SECONDS\n"
     ]
    },
    {
     "name": "stderr",
     "output_type": "stream",
     "text": [
      "Traceback (most recent call last):\n",
      "  File \"C:\\Users\\riggi\\Projects\\Crypto_Day_Trading\\API_Utils\\API_Calls.py\", line 34, in _rest_api_call\n",
      "    raise(TooManyRequestsException(url=url, response_code=r.status_code))\n",
      "API_Utils.Response_Exceptions.TooManyRequestsException\n"
     ]
    },
    {
     "name": "stdout",
     "output_type": "stream",
     "text": [
      "WOO HERES THE RESPONSE!!!: 429\n",
      "Failed API Call on URL:  https://api.coingecko.com/api/v3/coins/markets?vs_currency=usd&order=market_cap_desc&per_page=250&page=18&sparkline=false&locale=en&precision=18\n",
      "Bad Status Code: 429\n",
      "Too Many Requests to CoinGecko... Upping Sleep Time\n",
      "SLEEPING FOR 211 SECONDS\n"
     ]
    },
    {
     "name": "stderr",
     "output_type": "stream",
     "text": [
      "Traceback (most recent call last):\n",
      "  File \"C:\\Users\\riggi\\Projects\\Crypto_Day_Trading\\API_Utils\\API_Calls.py\", line 34, in _rest_api_call\n",
      "    raise(TooManyRequestsException(url=url, response_code=r.status_code))\n",
      "API_Utils.Response_Exceptions.TooManyRequestsException\n"
     ]
    },
    {
     "name": "stdout",
     "output_type": "stream",
     "text": [
      "WOO HERES THE RESPONSE!!!: 200\n",
      "CUR LENGTH OF RESULTS:  4500\n",
      "SLEEPING FOR 6.5 SECONDS\n",
      "WOO HERES THE RESPONSE!!!: 200\n",
      "CUR LENGTH OF RESULTS:  4750\n",
      "SLEEPING FOR 6.5 SECONDS\n",
      "WOO HERES THE RESPONSE!!!: 200\n",
      "CUR LENGTH OF RESULTS:  5000\n",
      "SLEEPING FOR 6.5 SECONDS\n",
      "WOO HERES THE RESPONSE!!!: 429\n",
      "Failed API Call on URL:  https://api.coingecko.com/api/v3/coins/markets?vs_currency=usd&order=market_cap_desc&per_page=250&page=21&sparkline=false&locale=en&precision=18\n",
      "Bad Status Code: 429\n",
      "Too Many Requests to CoinGecko... Upping Sleep Time\n",
      "SLEEPING FOR 9 SECONDS\n"
     ]
    },
    {
     "name": "stderr",
     "output_type": "stream",
     "text": [
      "Traceback (most recent call last):\n",
      "  File \"C:\\Users\\riggi\\Projects\\Crypto_Day_Trading\\API_Utils\\API_Calls.py\", line 34, in _rest_api_call\n",
      "    raise(TooManyRequestsException(url=url, response_code=r.status_code))\n",
      "API_Utils.Response_Exceptions.TooManyRequestsException\n"
     ]
    },
    {
     "name": "stdout",
     "output_type": "stream",
     "text": [
      "WOO HERES THE RESPONSE!!!: 429\n",
      "Failed API Call on URL:  https://api.coingecko.com/api/v3/coins/markets?vs_currency=usd&order=market_cap_desc&per_page=250&page=21&sparkline=false&locale=en&precision=18\n",
      "Bad Status Code: 429\n",
      "Too Many Requests to CoinGecko... Upping Sleep Time\n",
      "SLEEPING FOR 13 SECONDS\n"
     ]
    },
    {
     "name": "stderr",
     "output_type": "stream",
     "text": [
      "Traceback (most recent call last):\n",
      "  File \"C:\\Users\\riggi\\Projects\\Crypto_Day_Trading\\API_Utils\\API_Calls.py\", line 34, in _rest_api_call\n",
      "    raise(TooManyRequestsException(url=url, response_code=r.status_code))\n",
      "API_Utils.Response_Exceptions.TooManyRequestsException\n"
     ]
    },
    {
     "name": "stdout",
     "output_type": "stream",
     "text": [
      "WOO HERES THE RESPONSE!!!: 429\n",
      "Failed API Call on URL:  https://api.coingecko.com/api/v3/coins/markets?vs_currency=usd&order=market_cap_desc&per_page=250&page=21&sparkline=false&locale=en&precision=18\n",
      "Bad Status Code: 429\n",
      "Too Many Requests to CoinGecko... Upping Sleep Time\n",
      "SLEEPING FOR 19 SECONDS\n"
     ]
    },
    {
     "name": "stderr",
     "output_type": "stream",
     "text": [
      "Traceback (most recent call last):\n",
      "  File \"C:\\Users\\riggi\\Projects\\Crypto_Day_Trading\\API_Utils\\API_Calls.py\", line 34, in _rest_api_call\n",
      "    raise(TooManyRequestsException(url=url, response_code=r.status_code))\n",
      "API_Utils.Response_Exceptions.TooManyRequestsException\n"
     ]
    },
    {
     "name": "stdout",
     "output_type": "stream",
     "text": [
      "WOO HERES THE RESPONSE!!!: 429\n",
      "Failed API Call on URL:  https://api.coingecko.com/api/v3/coins/markets?vs_currency=usd&order=market_cap_desc&per_page=250&page=21&sparkline=false&locale=en&precision=18\n",
      "Bad Status Code: 429\n",
      "Too Many Requests to CoinGecko... Upping Sleep Time\n",
      "SLEEPING FOR 28 SECONDS\n"
     ]
    },
    {
     "name": "stderr",
     "output_type": "stream",
     "text": [
      "Traceback (most recent call last):\n",
      "  File \"C:\\Users\\riggi\\Projects\\Crypto_Day_Trading\\API_Utils\\API_Calls.py\", line 34, in _rest_api_call\n",
      "    raise(TooManyRequestsException(url=url, response_code=r.status_code))\n",
      "API_Utils.Response_Exceptions.TooManyRequestsException\n"
     ]
    },
    {
     "name": "stdout",
     "output_type": "stream",
     "text": [
      "WOO HERES THE RESPONSE!!!: 429\n",
      "Failed API Call on URL:  https://api.coingecko.com/api/v3/coins/markets?vs_currency=usd&order=market_cap_desc&per_page=250&page=21&sparkline=false&locale=en&precision=18\n",
      "Bad Status Code: 429\n",
      "Too Many Requests to CoinGecko... Upping Sleep Time\n",
      "SLEEPING FOR 42 SECONDS\n"
     ]
    },
    {
     "name": "stderr",
     "output_type": "stream",
     "text": [
      "Traceback (most recent call last):\n",
      "  File \"C:\\Users\\riggi\\Projects\\Crypto_Day_Trading\\API_Utils\\API_Calls.py\", line 34, in _rest_api_call\n",
      "    raise(TooManyRequestsException(url=url, response_code=r.status_code))\n",
      "API_Utils.Response_Exceptions.TooManyRequestsException\n"
     ]
    },
    {
     "name": "stdout",
     "output_type": "stream",
     "text": [
      "WOO HERES THE RESPONSE!!!: 429\n",
      "Failed API Call on URL:  https://api.coingecko.com/api/v3/coins/markets?vs_currency=usd&order=market_cap_desc&per_page=250&page=21&sparkline=false&locale=en&precision=18\n",
      "Bad Status Code: 429\n",
      "Too Many Requests to CoinGecko... Upping Sleep Time\n",
      "SLEEPING FOR 63 SECONDS\n"
     ]
    },
    {
     "name": "stderr",
     "output_type": "stream",
     "text": [
      "Traceback (most recent call last):\n",
      "  File \"C:\\Users\\riggi\\Projects\\Crypto_Day_Trading\\API_Utils\\API_Calls.py\", line 34, in _rest_api_call\n",
      "    raise(TooManyRequestsException(url=url, response_code=r.status_code))\n",
      "API_Utils.Response_Exceptions.TooManyRequestsException\n"
     ]
    },
    {
     "name": "stdout",
     "output_type": "stream",
     "text": [
      "WOO HERES THE RESPONSE!!!: 429\n",
      "Failed API Call on URL:  https://api.coingecko.com/api/v3/coins/markets?vs_currency=usd&order=market_cap_desc&per_page=250&page=21&sparkline=false&locale=en&precision=18\n",
      "Bad Status Code: 429\n",
      "Too Many Requests to CoinGecko... Upping Sleep Time\n",
      "SLEEPING FOR 94 SECONDS\n"
     ]
    },
    {
     "name": "stderr",
     "output_type": "stream",
     "text": [
      "Traceback (most recent call last):\n",
      "  File \"C:\\Users\\riggi\\Projects\\Crypto_Day_Trading\\API_Utils\\API_Calls.py\", line 34, in _rest_api_call\n",
      "    raise(TooManyRequestsException(url=url, response_code=r.status_code))\n",
      "API_Utils.Response_Exceptions.TooManyRequestsException\n"
     ]
    },
    {
     "name": "stdout",
     "output_type": "stream",
     "text": [
      "WOO HERES THE RESPONSE!!!: 429\n",
      "Failed API Call on URL:  https://api.coingecko.com/api/v3/coins/markets?vs_currency=usd&order=market_cap_desc&per_page=250&page=21&sparkline=false&locale=en&precision=18\n",
      "Bad Status Code: 429\n",
      "Too Many Requests to CoinGecko... Upping Sleep Time\n",
      "SLEEPING FOR 141 SECONDS\n"
     ]
    },
    {
     "name": "stderr",
     "output_type": "stream",
     "text": [
      "Traceback (most recent call last):\n",
      "  File \"C:\\Users\\riggi\\Projects\\Crypto_Day_Trading\\API_Utils\\API_Calls.py\", line 34, in _rest_api_call\n",
      "    raise(TooManyRequestsException(url=url, response_code=r.status_code))\n",
      "API_Utils.Response_Exceptions.TooManyRequestsException\n"
     ]
    },
    {
     "name": "stdout",
     "output_type": "stream",
     "text": [
      "WOO HERES THE RESPONSE!!!: 429\n",
      "Failed API Call on URL:  https://api.coingecko.com/api/v3/coins/markets?vs_currency=usd&order=market_cap_desc&per_page=250&page=21&sparkline=false&locale=en&precision=18\n",
      "Bad Status Code: 429\n",
      "Too Many Requests to CoinGecko... Upping Sleep Time\n",
      "SLEEPING FOR 211 SECONDS\n"
     ]
    },
    {
     "name": "stderr",
     "output_type": "stream",
     "text": [
      "Traceback (most recent call last):\n",
      "  File \"C:\\Users\\riggi\\Projects\\Crypto_Day_Trading\\API_Utils\\API_Calls.py\", line 34, in _rest_api_call\n",
      "    raise(TooManyRequestsException(url=url, response_code=r.status_code))\n",
      "API_Utils.Response_Exceptions.TooManyRequestsException\n"
     ]
    },
    {
     "name": "stdout",
     "output_type": "stream",
     "text": [
      "WOO HERES THE RESPONSE!!!: 200\n",
      "CUR LENGTH OF RESULTS:  5250\n",
      "SLEEPING FOR 6.5 SECONDS\n",
      "WOO HERES THE RESPONSE!!!: 200\n",
      "CUR LENGTH OF RESULTS:  5500\n",
      "SLEEPING FOR 6.5 SECONDS\n",
      "WOO HERES THE RESPONSE!!!: 200\n",
      "CUR LENGTH OF RESULTS:  5750\n",
      "SLEEPING FOR 6.5 SECONDS\n",
      "WOO HERES THE RESPONSE!!!: 429\n",
      "Failed API Call on URL:  https://api.coingecko.com/api/v3/coins/markets?vs_currency=usd&order=market_cap_desc&per_page=250&page=24&sparkline=false&locale=en&precision=18\n",
      "Bad Status Code: 429\n",
      "Too Many Requests to CoinGecko... Upping Sleep Time\n",
      "SLEEPING FOR 9 SECONDS\n"
     ]
    },
    {
     "name": "stderr",
     "output_type": "stream",
     "text": [
      "Traceback (most recent call last):\n",
      "  File \"C:\\Users\\riggi\\Projects\\Crypto_Day_Trading\\API_Utils\\API_Calls.py\", line 34, in _rest_api_call\n",
      "    raise(TooManyRequestsException(url=url, response_code=r.status_code))\n",
      "API_Utils.Response_Exceptions.TooManyRequestsException\n"
     ]
    },
    {
     "name": "stdout",
     "output_type": "stream",
     "text": [
      "WOO HERES THE RESPONSE!!!: 429\n",
      "Failed API Call on URL:  https://api.coingecko.com/api/v3/coins/markets?vs_currency=usd&order=market_cap_desc&per_page=250&page=24&sparkline=false&locale=en&precision=18\n",
      "Bad Status Code: 429\n",
      "Too Many Requests to CoinGecko... Upping Sleep Time\n",
      "SLEEPING FOR 13 SECONDS\n"
     ]
    },
    {
     "name": "stderr",
     "output_type": "stream",
     "text": [
      "Traceback (most recent call last):\n",
      "  File \"C:\\Users\\riggi\\Projects\\Crypto_Day_Trading\\API_Utils\\API_Calls.py\", line 34, in _rest_api_call\n",
      "    raise(TooManyRequestsException(url=url, response_code=r.status_code))\n",
      "API_Utils.Response_Exceptions.TooManyRequestsException\n"
     ]
    },
    {
     "name": "stdout",
     "output_type": "stream",
     "text": [
      "WOO HERES THE RESPONSE!!!: 429\n",
      "Failed API Call on URL:  https://api.coingecko.com/api/v3/coins/markets?vs_currency=usd&order=market_cap_desc&per_page=250&page=24&sparkline=false&locale=en&precision=18\n",
      "Bad Status Code: 429\n",
      "Too Many Requests to CoinGecko... Upping Sleep Time\n",
      "SLEEPING FOR 19 SECONDS\n"
     ]
    },
    {
     "name": "stderr",
     "output_type": "stream",
     "text": [
      "Traceback (most recent call last):\n",
      "  File \"C:\\Users\\riggi\\Projects\\Crypto_Day_Trading\\API_Utils\\API_Calls.py\", line 34, in _rest_api_call\n",
      "    raise(TooManyRequestsException(url=url, response_code=r.status_code))\n",
      "API_Utils.Response_Exceptions.TooManyRequestsException\n"
     ]
    },
    {
     "name": "stdout",
     "output_type": "stream",
     "text": [
      "WOO HERES THE RESPONSE!!!: 429\n",
      "Failed API Call on URL:  https://api.coingecko.com/api/v3/coins/markets?vs_currency=usd&order=market_cap_desc&per_page=250&page=24&sparkline=false&locale=en&precision=18\n",
      "Bad Status Code: 429\n",
      "Too Many Requests to CoinGecko... Upping Sleep Time\n",
      "SLEEPING FOR 28 SECONDS\n"
     ]
    },
    {
     "name": "stderr",
     "output_type": "stream",
     "text": [
      "Traceback (most recent call last):\n",
      "  File \"C:\\Users\\riggi\\Projects\\Crypto_Day_Trading\\API_Utils\\API_Calls.py\", line 34, in _rest_api_call\n",
      "    raise(TooManyRequestsException(url=url, response_code=r.status_code))\n",
      "API_Utils.Response_Exceptions.TooManyRequestsException\n"
     ]
    },
    {
     "name": "stdout",
     "output_type": "stream",
     "text": [
      "WOO HERES THE RESPONSE!!!: 429\n",
      "Failed API Call on URL:  https://api.coingecko.com/api/v3/coins/markets?vs_currency=usd&order=market_cap_desc&per_page=250&page=24&sparkline=false&locale=en&precision=18\n",
      "Bad Status Code: 429\n",
      "Too Many Requests to CoinGecko... Upping Sleep Time\n",
      "SLEEPING FOR 42 SECONDS\n"
     ]
    },
    {
     "name": "stderr",
     "output_type": "stream",
     "text": [
      "Traceback (most recent call last):\n",
      "  File \"C:\\Users\\riggi\\Projects\\Crypto_Day_Trading\\API_Utils\\API_Calls.py\", line 34, in _rest_api_call\n",
      "    raise(TooManyRequestsException(url=url, response_code=r.status_code))\n",
      "API_Utils.Response_Exceptions.TooManyRequestsException\n"
     ]
    },
    {
     "name": "stdout",
     "output_type": "stream",
     "text": [
      "WOO HERES THE RESPONSE!!!: 429\n",
      "Failed API Call on URL:  https://api.coingecko.com/api/v3/coins/markets?vs_currency=usd&order=market_cap_desc&per_page=250&page=24&sparkline=false&locale=en&precision=18\n",
      "Bad Status Code: 429\n",
      "Too Many Requests to CoinGecko... Upping Sleep Time\n",
      "SLEEPING FOR 63 SECONDS\n"
     ]
    },
    {
     "name": "stderr",
     "output_type": "stream",
     "text": [
      "Traceback (most recent call last):\n",
      "  File \"C:\\Users\\riggi\\Projects\\Crypto_Day_Trading\\API_Utils\\API_Calls.py\", line 34, in _rest_api_call\n",
      "    raise(TooManyRequestsException(url=url, response_code=r.status_code))\n",
      "API_Utils.Response_Exceptions.TooManyRequestsException\n"
     ]
    },
    {
     "name": "stdout",
     "output_type": "stream",
     "text": [
      "WOO HERES THE RESPONSE!!!: 429\n",
      "Failed API Call on URL:  https://api.coingecko.com/api/v3/coins/markets?vs_currency=usd&order=market_cap_desc&per_page=250&page=24&sparkline=false&locale=en&precision=18\n",
      "Bad Status Code: 429\n",
      "Too Many Requests to CoinGecko... Upping Sleep Time\n",
      "SLEEPING FOR 94 SECONDS\n"
     ]
    },
    {
     "name": "stderr",
     "output_type": "stream",
     "text": [
      "Traceback (most recent call last):\n",
      "  File \"C:\\Users\\riggi\\Projects\\Crypto_Day_Trading\\API_Utils\\API_Calls.py\", line 34, in _rest_api_call\n",
      "    raise(TooManyRequestsException(url=url, response_code=r.status_code))\n",
      "API_Utils.Response_Exceptions.TooManyRequestsException\n"
     ]
    },
    {
     "name": "stdout",
     "output_type": "stream",
     "text": [
      "WOO HERES THE RESPONSE!!!: 429\n",
      "Failed API Call on URL:  https://api.coingecko.com/api/v3/coins/markets?vs_currency=usd&order=market_cap_desc&per_page=250&page=24&sparkline=false&locale=en&precision=18\n",
      "Bad Status Code: 429\n",
      "Too Many Requests to CoinGecko... Upping Sleep Time\n",
      "SLEEPING FOR 141 SECONDS\n"
     ]
    },
    {
     "name": "stderr",
     "output_type": "stream",
     "text": [
      "Traceback (most recent call last):\n",
      "  File \"C:\\Users\\riggi\\Projects\\Crypto_Day_Trading\\API_Utils\\API_Calls.py\", line 34, in _rest_api_call\n",
      "    raise(TooManyRequestsException(url=url, response_code=r.status_code))\n",
      "API_Utils.Response_Exceptions.TooManyRequestsException\n"
     ]
    },
    {
     "name": "stdout",
     "output_type": "stream",
     "text": [
      "WOO HERES THE RESPONSE!!!: 429\n",
      "Failed API Call on URL:  https://api.coingecko.com/api/v3/coins/markets?vs_currency=usd&order=market_cap_desc&per_page=250&page=24&sparkline=false&locale=en&precision=18\n",
      "Bad Status Code: 429\n",
      "Too Many Requests to CoinGecko... Upping Sleep Time\n",
      "SLEEPING FOR 211 SECONDS\n"
     ]
    },
    {
     "name": "stderr",
     "output_type": "stream",
     "text": [
      "Traceback (most recent call last):\n",
      "  File \"C:\\Users\\riggi\\Projects\\Crypto_Day_Trading\\API_Utils\\API_Calls.py\", line 34, in _rest_api_call\n",
      "    raise(TooManyRequestsException(url=url, response_code=r.status_code))\n",
      "API_Utils.Response_Exceptions.TooManyRequestsException\n"
     ]
    },
    {
     "name": "stdout",
     "output_type": "stream",
     "text": [
      "WOO HERES THE RESPONSE!!!: 200\n",
      "CUR LENGTH OF RESULTS:  6000\n",
      "SLEEPING FOR 6.5 SECONDS\n",
      "WOO HERES THE RESPONSE!!!: 200\n",
      "CUR LENGTH OF RESULTS:  6250\n",
      "SLEEPING FOR 6.5 SECONDS\n",
      "WOO HERES THE RESPONSE!!!: 200\n",
      "CUR LENGTH OF RESULTS:  6500\n",
      "SLEEPING FOR 6.5 SECONDS\n",
      "WOO HERES THE RESPONSE!!!: 200\n",
      "CUR LENGTH OF RESULTS:  6750\n",
      "SLEEPING FOR 6.5 SECONDS\n",
      "WOO HERES THE RESPONSE!!!: 429\n",
      "Failed API Call on URL:  https://api.coingecko.com/api/v3/coins/markets?vs_currency=usd&order=market_cap_desc&per_page=250&page=28&sparkline=false&locale=en&precision=18\n",
      "Bad Status Code: 429\n",
      "Too Many Requests to CoinGecko... Upping Sleep Time\n",
      "SLEEPING FOR 9 SECONDS\n"
     ]
    },
    {
     "name": "stderr",
     "output_type": "stream",
     "text": [
      "Traceback (most recent call last):\n",
      "  File \"C:\\Users\\riggi\\Projects\\Crypto_Day_Trading\\API_Utils\\API_Calls.py\", line 34, in _rest_api_call\n",
      "    raise(TooManyRequestsException(url=url, response_code=r.status_code))\n",
      "API_Utils.Response_Exceptions.TooManyRequestsException\n"
     ]
    },
    {
     "name": "stdout",
     "output_type": "stream",
     "text": [
      "WOO HERES THE RESPONSE!!!: 429\n",
      "Failed API Call on URL:  https://api.coingecko.com/api/v3/coins/markets?vs_currency=usd&order=market_cap_desc&per_page=250&page=28&sparkline=false&locale=en&precision=18\n",
      "Bad Status Code: 429\n",
      "Too Many Requests to CoinGecko... Upping Sleep Time\n",
      "SLEEPING FOR 13 SECONDS\n"
     ]
    },
    {
     "name": "stderr",
     "output_type": "stream",
     "text": [
      "Traceback (most recent call last):\n",
      "  File \"C:\\Users\\riggi\\Projects\\Crypto_Day_Trading\\API_Utils\\API_Calls.py\", line 34, in _rest_api_call\n",
      "    raise(TooManyRequestsException(url=url, response_code=r.status_code))\n",
      "API_Utils.Response_Exceptions.TooManyRequestsException\n"
     ]
    },
    {
     "name": "stdout",
     "output_type": "stream",
     "text": [
      "WOO HERES THE RESPONSE!!!: 429\n",
      "Failed API Call on URL:  https://api.coingecko.com/api/v3/coins/markets?vs_currency=usd&order=market_cap_desc&per_page=250&page=28&sparkline=false&locale=en&precision=18\n",
      "Bad Status Code: 429\n",
      "Too Many Requests to CoinGecko... Upping Sleep Time\n",
      "SLEEPING FOR 19 SECONDS\n"
     ]
    },
    {
     "name": "stderr",
     "output_type": "stream",
     "text": [
      "Traceback (most recent call last):\n",
      "  File \"C:\\Users\\riggi\\Projects\\Crypto_Day_Trading\\API_Utils\\API_Calls.py\", line 34, in _rest_api_call\n",
      "    raise(TooManyRequestsException(url=url, response_code=r.status_code))\n",
      "API_Utils.Response_Exceptions.TooManyRequestsException\n"
     ]
    },
    {
     "name": "stdout",
     "output_type": "stream",
     "text": [
      "WOO HERES THE RESPONSE!!!: 429\n",
      "Failed API Call on URL:  https://api.coingecko.com/api/v3/coins/markets?vs_currency=usd&order=market_cap_desc&per_page=250&page=28&sparkline=false&locale=en&precision=18\n",
      "Bad Status Code: 429\n",
      "Too Many Requests to CoinGecko... Upping Sleep Time\n",
      "SLEEPING FOR 28 SECONDS\n"
     ]
    },
    {
     "name": "stderr",
     "output_type": "stream",
     "text": [
      "Traceback (most recent call last):\n",
      "  File \"C:\\Users\\riggi\\Projects\\Crypto_Day_Trading\\API_Utils\\API_Calls.py\", line 34, in _rest_api_call\n",
      "    raise(TooManyRequestsException(url=url, response_code=r.status_code))\n",
      "API_Utils.Response_Exceptions.TooManyRequestsException\n"
     ]
    },
    {
     "name": "stdout",
     "output_type": "stream",
     "text": [
      "WOO HERES THE RESPONSE!!!: 429\n",
      "Failed API Call on URL:  https://api.coingecko.com/api/v3/coins/markets?vs_currency=usd&order=market_cap_desc&per_page=250&page=28&sparkline=false&locale=en&precision=18\n",
      "Bad Status Code: 429\n",
      "Too Many Requests to CoinGecko... Upping Sleep Time\n",
      "SLEEPING FOR 42 SECONDS\n"
     ]
    },
    {
     "name": "stderr",
     "output_type": "stream",
     "text": [
      "Traceback (most recent call last):\n",
      "  File \"C:\\Users\\riggi\\Projects\\Crypto_Day_Trading\\API_Utils\\API_Calls.py\", line 34, in _rest_api_call\n",
      "    raise(TooManyRequestsException(url=url, response_code=r.status_code))\n",
      "API_Utils.Response_Exceptions.TooManyRequestsException\n"
     ]
    },
    {
     "name": "stdout",
     "output_type": "stream",
     "text": [
      "WOO HERES THE RESPONSE!!!: 429\n",
      "Failed API Call on URL:  https://api.coingecko.com/api/v3/coins/markets?vs_currency=usd&order=market_cap_desc&per_page=250&page=28&sparkline=false&locale=en&precision=18\n",
      "Bad Status Code: 429\n",
      "Too Many Requests to CoinGecko... Upping Sleep Time\n",
      "SLEEPING FOR 63 SECONDS\n"
     ]
    },
    {
     "name": "stderr",
     "output_type": "stream",
     "text": [
      "Traceback (most recent call last):\n",
      "  File \"C:\\Users\\riggi\\Projects\\Crypto_Day_Trading\\API_Utils\\API_Calls.py\", line 34, in _rest_api_call\n",
      "    raise(TooManyRequestsException(url=url, response_code=r.status_code))\n",
      "API_Utils.Response_Exceptions.TooManyRequestsException\n"
     ]
    },
    {
     "name": "stdout",
     "output_type": "stream",
     "text": [
      "WOO HERES THE RESPONSE!!!: 429\n",
      "Failed API Call on URL:  https://api.coingecko.com/api/v3/coins/markets?vs_currency=usd&order=market_cap_desc&per_page=250&page=28&sparkline=false&locale=en&precision=18\n",
      "Bad Status Code: 429\n",
      "Too Many Requests to CoinGecko... Upping Sleep Time\n",
      "SLEEPING FOR 94 SECONDS\n"
     ]
    },
    {
     "name": "stderr",
     "output_type": "stream",
     "text": [
      "Traceback (most recent call last):\n",
      "  File \"C:\\Users\\riggi\\Projects\\Crypto_Day_Trading\\API_Utils\\API_Calls.py\", line 34, in _rest_api_call\n",
      "    raise(TooManyRequestsException(url=url, response_code=r.status_code))\n",
      "API_Utils.Response_Exceptions.TooManyRequestsException\n"
     ]
    },
    {
     "name": "stdout",
     "output_type": "stream",
     "text": [
      "WOO HERES THE RESPONSE!!!: 429\n",
      "Failed API Call on URL:  https://api.coingecko.com/api/v3/coins/markets?vs_currency=usd&order=market_cap_desc&per_page=250&page=28&sparkline=false&locale=en&precision=18\n",
      "Bad Status Code: 429\n",
      "Too Many Requests to CoinGecko... Upping Sleep Time\n",
      "SLEEPING FOR 141 SECONDS\n"
     ]
    },
    {
     "name": "stderr",
     "output_type": "stream",
     "text": [
      "Traceback (most recent call last):\n",
      "  File \"C:\\Users\\riggi\\Projects\\Crypto_Day_Trading\\API_Utils\\API_Calls.py\", line 34, in _rest_api_call\n",
      "    raise(TooManyRequestsException(url=url, response_code=r.status_code))\n",
      "API_Utils.Response_Exceptions.TooManyRequestsException\n"
     ]
    },
    {
     "name": "stdout",
     "output_type": "stream",
     "text": [
      "WOO HERES THE RESPONSE!!!: 429\n",
      "Failed API Call on URL:  https://api.coingecko.com/api/v3/coins/markets?vs_currency=usd&order=market_cap_desc&per_page=250&page=28&sparkline=false&locale=en&precision=18\n",
      "Bad Status Code: 429\n",
      "Too Many Requests to CoinGecko... Upping Sleep Time\n",
      "SLEEPING FOR 211 SECONDS\n"
     ]
    },
    {
     "name": "stderr",
     "output_type": "stream",
     "text": [
      "Traceback (most recent call last):\n",
      "  File \"C:\\Users\\riggi\\Projects\\Crypto_Day_Trading\\API_Utils\\API_Calls.py\", line 34, in _rest_api_call\n",
      "    raise(TooManyRequestsException(url=url, response_code=r.status_code))\n",
      "API_Utils.Response_Exceptions.TooManyRequestsException\n"
     ]
    },
    {
     "name": "stdout",
     "output_type": "stream",
     "text": [
      "WOO HERES THE RESPONSE!!!: 200\n",
      "CUR LENGTH OF RESULTS:  7000\n",
      "SLEEPING FOR 6.5 SECONDS\n",
      "WOO HERES THE RESPONSE!!!: 200\n",
      "CUR LENGTH OF RESULTS:  7250\n",
      "SLEEPING FOR 6.5 SECONDS\n",
      "WOO HERES THE RESPONSE!!!: 200\n",
      "CUR LENGTH OF RESULTS:  7500\n",
      "SLEEPING FOR 6.5 SECONDS\n",
      "WOO HERES THE RESPONSE!!!: 200\n",
      "CUR LENGTH OF RESULTS:  7750\n",
      "SLEEPING FOR 6.5 SECONDS\n",
      "WOO HERES THE RESPONSE!!!: 429\n",
      "Failed API Call on URL:  https://api.coingecko.com/api/v3/coins/markets?vs_currency=usd&order=market_cap_desc&per_page=250&page=32&sparkline=false&locale=en&precision=18\n",
      "Bad Status Code: 429\n",
      "Too Many Requests to CoinGecko... Upping Sleep Time\n",
      "SLEEPING FOR 9 SECONDS\n"
     ]
    },
    {
     "name": "stderr",
     "output_type": "stream",
     "text": [
      "Traceback (most recent call last):\n",
      "  File \"C:\\Users\\riggi\\Projects\\Crypto_Day_Trading\\API_Utils\\API_Calls.py\", line 34, in _rest_api_call\n",
      "    raise(TooManyRequestsException(url=url, response_code=r.status_code))\n",
      "API_Utils.Response_Exceptions.TooManyRequestsException\n"
     ]
    },
    {
     "name": "stdout",
     "output_type": "stream",
     "text": [
      "WOO HERES THE RESPONSE!!!: 429\n",
      "Failed API Call on URL:  https://api.coingecko.com/api/v3/coins/markets?vs_currency=usd&order=market_cap_desc&per_page=250&page=32&sparkline=false&locale=en&precision=18\n",
      "Bad Status Code: 429\n",
      "Too Many Requests to CoinGecko... Upping Sleep Time\n",
      "SLEEPING FOR 13 SECONDS\n"
     ]
    },
    {
     "name": "stderr",
     "output_type": "stream",
     "text": [
      "Traceback (most recent call last):\n",
      "  File \"C:\\Users\\riggi\\Projects\\Crypto_Day_Trading\\API_Utils\\API_Calls.py\", line 34, in _rest_api_call\n",
      "    raise(TooManyRequestsException(url=url, response_code=r.status_code))\n",
      "API_Utils.Response_Exceptions.TooManyRequestsException\n"
     ]
    },
    {
     "name": "stdout",
     "output_type": "stream",
     "text": [
      "WOO HERES THE RESPONSE!!!: 429\n",
      "Failed API Call on URL:  https://api.coingecko.com/api/v3/coins/markets?vs_currency=usd&order=market_cap_desc&per_page=250&page=32&sparkline=false&locale=en&precision=18\n",
      "Bad Status Code: 429\n",
      "Too Many Requests to CoinGecko... Upping Sleep Time\n",
      "SLEEPING FOR 19 SECONDS\n"
     ]
    },
    {
     "name": "stderr",
     "output_type": "stream",
     "text": [
      "Traceback (most recent call last):\n",
      "  File \"C:\\Users\\riggi\\Projects\\Crypto_Day_Trading\\API_Utils\\API_Calls.py\", line 34, in _rest_api_call\n",
      "    raise(TooManyRequestsException(url=url, response_code=r.status_code))\n",
      "API_Utils.Response_Exceptions.TooManyRequestsException\n"
     ]
    },
    {
     "name": "stdout",
     "output_type": "stream",
     "text": [
      "WOO HERES THE RESPONSE!!!: 429\n",
      "Failed API Call on URL:  https://api.coingecko.com/api/v3/coins/markets?vs_currency=usd&order=market_cap_desc&per_page=250&page=32&sparkline=false&locale=en&precision=18\n",
      "Bad Status Code: 429\n",
      "Too Many Requests to CoinGecko... Upping Sleep Time\n",
      "SLEEPING FOR 28 SECONDS\n"
     ]
    },
    {
     "name": "stderr",
     "output_type": "stream",
     "text": [
      "Traceback (most recent call last):\n",
      "  File \"C:\\Users\\riggi\\Projects\\Crypto_Day_Trading\\API_Utils\\API_Calls.py\", line 34, in _rest_api_call\n",
      "    raise(TooManyRequestsException(url=url, response_code=r.status_code))\n",
      "API_Utils.Response_Exceptions.TooManyRequestsException\n"
     ]
    },
    {
     "name": "stdout",
     "output_type": "stream",
     "text": [
      "WOO HERES THE RESPONSE!!!: 429\n",
      "Failed API Call on URL:  https://api.coingecko.com/api/v3/coins/markets?vs_currency=usd&order=market_cap_desc&per_page=250&page=32&sparkline=false&locale=en&precision=18\n",
      "Bad Status Code: 429\n",
      "Too Many Requests to CoinGecko... Upping Sleep Time\n",
      "SLEEPING FOR 42 SECONDS\n"
     ]
    },
    {
     "name": "stderr",
     "output_type": "stream",
     "text": [
      "Traceback (most recent call last):\n",
      "  File \"C:\\Users\\riggi\\Projects\\Crypto_Day_Trading\\API_Utils\\API_Calls.py\", line 34, in _rest_api_call\n",
      "    raise(TooManyRequestsException(url=url, response_code=r.status_code))\n",
      "API_Utils.Response_Exceptions.TooManyRequestsException\n"
     ]
    },
    {
     "name": "stdout",
     "output_type": "stream",
     "text": [
      "WOO HERES THE RESPONSE!!!: 429\n",
      "Failed API Call on URL:  https://api.coingecko.com/api/v3/coins/markets?vs_currency=usd&order=market_cap_desc&per_page=250&page=32&sparkline=false&locale=en&precision=18\n",
      "Bad Status Code: 429\n",
      "Too Many Requests to CoinGecko... Upping Sleep Time\n",
      "SLEEPING FOR 63 SECONDS\n"
     ]
    },
    {
     "name": "stderr",
     "output_type": "stream",
     "text": [
      "Traceback (most recent call last):\n",
      "  File \"C:\\Users\\riggi\\Projects\\Crypto_Day_Trading\\API_Utils\\API_Calls.py\", line 34, in _rest_api_call\n",
      "    raise(TooManyRequestsException(url=url, response_code=r.status_code))\n",
      "API_Utils.Response_Exceptions.TooManyRequestsException\n"
     ]
    },
    {
     "name": "stdout",
     "output_type": "stream",
     "text": [
      "WOO HERES THE RESPONSE!!!: 429\n",
      "Failed API Call on URL:  https://api.coingecko.com/api/v3/coins/markets?vs_currency=usd&order=market_cap_desc&per_page=250&page=32&sparkline=false&locale=en&precision=18\n",
      "Bad Status Code: 429\n",
      "Too Many Requests to CoinGecko... Upping Sleep Time\n",
      "SLEEPING FOR 94 SECONDS\n"
     ]
    },
    {
     "name": "stderr",
     "output_type": "stream",
     "text": [
      "Traceback (most recent call last):\n",
      "  File \"C:\\Users\\riggi\\Projects\\Crypto_Day_Trading\\API_Utils\\API_Calls.py\", line 34, in _rest_api_call\n",
      "    raise(TooManyRequestsException(url=url, response_code=r.status_code))\n",
      "API_Utils.Response_Exceptions.TooManyRequestsException\n"
     ]
    },
    {
     "name": "stdout",
     "output_type": "stream",
     "text": [
      "WOO HERES THE RESPONSE!!!: 429\n",
      "Failed API Call on URL:  https://api.coingecko.com/api/v3/coins/markets?vs_currency=usd&order=market_cap_desc&per_page=250&page=32&sparkline=false&locale=en&precision=18\n",
      "Bad Status Code: 429\n",
      "Too Many Requests to CoinGecko... Upping Sleep Time\n",
      "SLEEPING FOR 141 SECONDS\n"
     ]
    },
    {
     "name": "stderr",
     "output_type": "stream",
     "text": [
      "Traceback (most recent call last):\n",
      "  File \"C:\\Users\\riggi\\Projects\\Crypto_Day_Trading\\API_Utils\\API_Calls.py\", line 34, in _rest_api_call\n",
      "    raise(TooManyRequestsException(url=url, response_code=r.status_code))\n",
      "API_Utils.Response_Exceptions.TooManyRequestsException\n"
     ]
    },
    {
     "name": "stdout",
     "output_type": "stream",
     "text": [
      "WOO HERES THE RESPONSE!!!: 429\n",
      "Failed API Call on URL:  https://api.coingecko.com/api/v3/coins/markets?vs_currency=usd&order=market_cap_desc&per_page=250&page=32&sparkline=false&locale=en&precision=18\n",
      "Bad Status Code: 429\n",
      "Too Many Requests to CoinGecko... Upping Sleep Time\n",
      "SLEEPING FOR 211 SECONDS\n"
     ]
    },
    {
     "name": "stderr",
     "output_type": "stream",
     "text": [
      "Traceback (most recent call last):\n",
      "  File \"C:\\Users\\riggi\\Projects\\Crypto_Day_Trading\\API_Utils\\API_Calls.py\", line 34, in _rest_api_call\n",
      "    raise(TooManyRequestsException(url=url, response_code=r.status_code))\n",
      "API_Utils.Response_Exceptions.TooManyRequestsException\n"
     ]
    },
    {
     "name": "stdout",
     "output_type": "stream",
     "text": [
      "WOO HERES THE RESPONSE!!!: 200\n",
      "CUR LENGTH OF RESULTS:  8000\n",
      "SLEEPING FOR 6.5 SECONDS\n",
      "WOO HERES THE RESPONSE!!!: 200\n",
      "CUR LENGTH OF RESULTS:  8250\n",
      "SLEEPING FOR 6.5 SECONDS\n",
      "WOO HERES THE RESPONSE!!!: 200\n",
      "CUR LENGTH OF RESULTS:  8500\n",
      "SLEEPING FOR 6.5 SECONDS\n",
      "WOO HERES THE RESPONSE!!!: 429\n",
      "Failed API Call on URL:  https://api.coingecko.com/api/v3/coins/markets?vs_currency=usd&order=market_cap_desc&per_page=250&page=35&sparkline=false&locale=en&precision=18\n",
      "Bad Status Code: 429\n",
      "Too Many Requests to CoinGecko... Upping Sleep Time\n",
      "SLEEPING FOR 9 SECONDS\n"
     ]
    },
    {
     "name": "stderr",
     "output_type": "stream",
     "text": [
      "Traceback (most recent call last):\n",
      "  File \"C:\\Users\\riggi\\Projects\\Crypto_Day_Trading\\API_Utils\\API_Calls.py\", line 34, in _rest_api_call\n",
      "    raise(TooManyRequestsException(url=url, response_code=r.status_code))\n",
      "API_Utils.Response_Exceptions.TooManyRequestsException\n"
     ]
    },
    {
     "name": "stdout",
     "output_type": "stream",
     "text": [
      "WOO HERES THE RESPONSE!!!: 429\n",
      "Failed API Call on URL:  https://api.coingecko.com/api/v3/coins/markets?vs_currency=usd&order=market_cap_desc&per_page=250&page=35&sparkline=false&locale=en&precision=18\n",
      "Bad Status Code: 429\n",
      "Too Many Requests to CoinGecko... Upping Sleep Time\n",
      "SLEEPING FOR 13 SECONDS\n"
     ]
    },
    {
     "name": "stderr",
     "output_type": "stream",
     "text": [
      "Traceback (most recent call last):\n",
      "  File \"C:\\Users\\riggi\\Projects\\Crypto_Day_Trading\\API_Utils\\API_Calls.py\", line 34, in _rest_api_call\n",
      "    raise(TooManyRequestsException(url=url, response_code=r.status_code))\n",
      "API_Utils.Response_Exceptions.TooManyRequestsException\n"
     ]
    },
    {
     "name": "stdout",
     "output_type": "stream",
     "text": [
      "WOO HERES THE RESPONSE!!!: 429\n",
      "Failed API Call on URL:  https://api.coingecko.com/api/v3/coins/markets?vs_currency=usd&order=market_cap_desc&per_page=250&page=35&sparkline=false&locale=en&precision=18\n",
      "Bad Status Code: 429\n",
      "Too Many Requests to CoinGecko... Upping Sleep Time\n",
      "SLEEPING FOR 19 SECONDS\n"
     ]
    },
    {
     "name": "stderr",
     "output_type": "stream",
     "text": [
      "Traceback (most recent call last):\n",
      "  File \"C:\\Users\\riggi\\Projects\\Crypto_Day_Trading\\API_Utils\\API_Calls.py\", line 34, in _rest_api_call\n",
      "    raise(TooManyRequestsException(url=url, response_code=r.status_code))\n",
      "API_Utils.Response_Exceptions.TooManyRequestsException\n"
     ]
    },
    {
     "name": "stdout",
     "output_type": "stream",
     "text": [
      "WOO HERES THE RESPONSE!!!: 429\n",
      "Failed API Call on URL:  https://api.coingecko.com/api/v3/coins/markets?vs_currency=usd&order=market_cap_desc&per_page=250&page=35&sparkline=false&locale=en&precision=18\n",
      "Bad Status Code: 429\n",
      "Too Many Requests to CoinGecko... Upping Sleep Time\n",
      "SLEEPING FOR 28 SECONDS\n"
     ]
    },
    {
     "name": "stderr",
     "output_type": "stream",
     "text": [
      "Traceback (most recent call last):\n",
      "  File \"C:\\Users\\riggi\\Projects\\Crypto_Day_Trading\\API_Utils\\API_Calls.py\", line 34, in _rest_api_call\n",
      "    raise(TooManyRequestsException(url=url, response_code=r.status_code))\n",
      "API_Utils.Response_Exceptions.TooManyRequestsException\n"
     ]
    },
    {
     "name": "stdout",
     "output_type": "stream",
     "text": [
      "WOO HERES THE RESPONSE!!!: 429\n",
      "Failed API Call on URL:  https://api.coingecko.com/api/v3/coins/markets?vs_currency=usd&order=market_cap_desc&per_page=250&page=35&sparkline=false&locale=en&precision=18\n",
      "Bad Status Code: 429\n",
      "Too Many Requests to CoinGecko... Upping Sleep Time\n",
      "SLEEPING FOR 42 SECONDS\n"
     ]
    },
    {
     "name": "stderr",
     "output_type": "stream",
     "text": [
      "Traceback (most recent call last):\n",
      "  File \"C:\\Users\\riggi\\Projects\\Crypto_Day_Trading\\API_Utils\\API_Calls.py\", line 34, in _rest_api_call\n",
      "    raise(TooManyRequestsException(url=url, response_code=r.status_code))\n",
      "API_Utils.Response_Exceptions.TooManyRequestsException\n"
     ]
    },
    {
     "name": "stdout",
     "output_type": "stream",
     "text": [
      "WOO HERES THE RESPONSE!!!: 429\n",
      "Failed API Call on URL:  https://api.coingecko.com/api/v3/coins/markets?vs_currency=usd&order=market_cap_desc&per_page=250&page=35&sparkline=false&locale=en&precision=18\n",
      "Bad Status Code: 429\n",
      "Too Many Requests to CoinGecko... Upping Sleep Time\n",
      "SLEEPING FOR 63 SECONDS\n"
     ]
    },
    {
     "name": "stderr",
     "output_type": "stream",
     "text": [
      "Traceback (most recent call last):\n",
      "  File \"C:\\Users\\riggi\\Projects\\Crypto_Day_Trading\\API_Utils\\API_Calls.py\", line 34, in _rest_api_call\n",
      "    raise(TooManyRequestsException(url=url, response_code=r.status_code))\n",
      "API_Utils.Response_Exceptions.TooManyRequestsException\n"
     ]
    },
    {
     "name": "stdout",
     "output_type": "stream",
     "text": [
      "WOO HERES THE RESPONSE!!!: 429\n",
      "Failed API Call on URL:  https://api.coingecko.com/api/v3/coins/markets?vs_currency=usd&order=market_cap_desc&per_page=250&page=35&sparkline=false&locale=en&precision=18\n",
      "Bad Status Code: 429\n",
      "Too Many Requests to CoinGecko... Upping Sleep Time\n",
      "SLEEPING FOR 94 SECONDS\n"
     ]
    },
    {
     "name": "stderr",
     "output_type": "stream",
     "text": [
      "Traceback (most recent call last):\n",
      "  File \"C:\\Users\\riggi\\Projects\\Crypto_Day_Trading\\API_Utils\\API_Calls.py\", line 34, in _rest_api_call\n",
      "    raise(TooManyRequestsException(url=url, response_code=r.status_code))\n",
      "API_Utils.Response_Exceptions.TooManyRequestsException\n"
     ]
    },
    {
     "name": "stdout",
     "output_type": "stream",
     "text": [
      "WOO HERES THE RESPONSE!!!: 429\n",
      "Failed API Call on URL:  https://api.coingecko.com/api/v3/coins/markets?vs_currency=usd&order=market_cap_desc&per_page=250&page=35&sparkline=false&locale=en&precision=18\n",
      "Bad Status Code: 429\n",
      "Too Many Requests to CoinGecko... Upping Sleep Time\n",
      "SLEEPING FOR 141 SECONDS\n"
     ]
    },
    {
     "name": "stderr",
     "output_type": "stream",
     "text": [
      "Traceback (most recent call last):\n",
      "  File \"C:\\Users\\riggi\\Projects\\Crypto_Day_Trading\\API_Utils\\API_Calls.py\", line 34, in _rest_api_call\n",
      "    raise(TooManyRequestsException(url=url, response_code=r.status_code))\n",
      "API_Utils.Response_Exceptions.TooManyRequestsException\n"
     ]
    },
    {
     "name": "stdout",
     "output_type": "stream",
     "text": [
      "WOO HERES THE RESPONSE!!!: 429\n",
      "Failed API Call on URL:  https://api.coingecko.com/api/v3/coins/markets?vs_currency=usd&order=market_cap_desc&per_page=250&page=35&sparkline=false&locale=en&precision=18\n",
      "Bad Status Code: 429\n",
      "Too Many Requests to CoinGecko... Upping Sleep Time\n",
      "SLEEPING FOR 211 SECONDS\n"
     ]
    },
    {
     "name": "stderr",
     "output_type": "stream",
     "text": [
      "Traceback (most recent call last):\n",
      "  File \"C:\\Users\\riggi\\Projects\\Crypto_Day_Trading\\API_Utils\\API_Calls.py\", line 34, in _rest_api_call\n",
      "    raise(TooManyRequestsException(url=url, response_code=r.status_code))\n",
      "API_Utils.Response_Exceptions.TooManyRequestsException\n"
     ]
    },
    {
     "name": "stdout",
     "output_type": "stream",
     "text": [
      "WOO HERES THE RESPONSE!!!: 200\n",
      "CUR LENGTH OF RESULTS:  8750\n",
      "SLEEPING FOR 6.5 SECONDS\n",
      "WOO HERES THE RESPONSE!!!: 200\n",
      "CUR LENGTH OF RESULTS:  9000\n",
      "SLEEPING FOR 6.5 SECONDS\n",
      "WOO HERES THE RESPONSE!!!: 200\n",
      "CUR LENGTH OF RESULTS:  9250\n",
      "SLEEPING FOR 6.5 SECONDS\n",
      "WOO HERES THE RESPONSE!!!: 429\n",
      "Failed API Call on URL:  https://api.coingecko.com/api/v3/coins/markets?vs_currency=usd&order=market_cap_desc&per_page=250&page=38&sparkline=false&locale=en&precision=18\n",
      "Bad Status Code: 429\n",
      "Too Many Requests to CoinGecko... Upping Sleep Time\n",
      "SLEEPING FOR 9 SECONDS\n"
     ]
    },
    {
     "name": "stderr",
     "output_type": "stream",
     "text": [
      "Traceback (most recent call last):\n",
      "  File \"C:\\Users\\riggi\\Projects\\Crypto_Day_Trading\\API_Utils\\API_Calls.py\", line 34, in _rest_api_call\n",
      "    raise(TooManyRequestsException(url=url, response_code=r.status_code))\n",
      "API_Utils.Response_Exceptions.TooManyRequestsException\n"
     ]
    },
    {
     "name": "stdout",
     "output_type": "stream",
     "text": [
      "WOO HERES THE RESPONSE!!!: 429\n",
      "Failed API Call on URL:  https://api.coingecko.com/api/v3/coins/markets?vs_currency=usd&order=market_cap_desc&per_page=250&page=38&sparkline=false&locale=en&precision=18\n",
      "Bad Status Code: 429\n",
      "Too Many Requests to CoinGecko... Upping Sleep Time\n",
      "SLEEPING FOR 13 SECONDS\n"
     ]
    },
    {
     "name": "stderr",
     "output_type": "stream",
     "text": [
      "Traceback (most recent call last):\n",
      "  File \"C:\\Users\\riggi\\Projects\\Crypto_Day_Trading\\API_Utils\\API_Calls.py\", line 34, in _rest_api_call\n",
      "    raise(TooManyRequestsException(url=url, response_code=r.status_code))\n",
      "API_Utils.Response_Exceptions.TooManyRequestsException\n"
     ]
    },
    {
     "name": "stdout",
     "output_type": "stream",
     "text": [
      "WOO HERES THE RESPONSE!!!: 429\n",
      "Failed API Call on URL:  https://api.coingecko.com/api/v3/coins/markets?vs_currency=usd&order=market_cap_desc&per_page=250&page=38&sparkline=false&locale=en&precision=18\n",
      "Bad Status Code: 429\n",
      "Too Many Requests to CoinGecko... Upping Sleep Time\n",
      "SLEEPING FOR 19 SECONDS\n"
     ]
    },
    {
     "name": "stderr",
     "output_type": "stream",
     "text": [
      "Traceback (most recent call last):\n",
      "  File \"C:\\Users\\riggi\\Projects\\Crypto_Day_Trading\\API_Utils\\API_Calls.py\", line 34, in _rest_api_call\n",
      "    raise(TooManyRequestsException(url=url, response_code=r.status_code))\n",
      "API_Utils.Response_Exceptions.TooManyRequestsException\n"
     ]
    },
    {
     "name": "stdout",
     "output_type": "stream",
     "text": [
      "WOO HERES THE RESPONSE!!!: 429\n",
      "Failed API Call on URL:  https://api.coingecko.com/api/v3/coins/markets?vs_currency=usd&order=market_cap_desc&per_page=250&page=38&sparkline=false&locale=en&precision=18\n",
      "Bad Status Code: 429\n",
      "Too Many Requests to CoinGecko... Upping Sleep Time\n",
      "SLEEPING FOR 28 SECONDS\n"
     ]
    },
    {
     "name": "stderr",
     "output_type": "stream",
     "text": [
      "Traceback (most recent call last):\n",
      "  File \"C:\\Users\\riggi\\Projects\\Crypto_Day_Trading\\API_Utils\\API_Calls.py\", line 34, in _rest_api_call\n",
      "    raise(TooManyRequestsException(url=url, response_code=r.status_code))\n",
      "API_Utils.Response_Exceptions.TooManyRequestsException\n"
     ]
    },
    {
     "name": "stdout",
     "output_type": "stream",
     "text": [
      "WOO HERES THE RESPONSE!!!: 429\n",
      "Failed API Call on URL:  https://api.coingecko.com/api/v3/coins/markets?vs_currency=usd&order=market_cap_desc&per_page=250&page=38&sparkline=false&locale=en&precision=18\n",
      "Bad Status Code: 429\n",
      "Too Many Requests to CoinGecko... Upping Sleep Time\n",
      "SLEEPING FOR 42 SECONDS\n"
     ]
    },
    {
     "name": "stderr",
     "output_type": "stream",
     "text": [
      "Traceback (most recent call last):\n",
      "  File \"C:\\Users\\riggi\\Projects\\Crypto_Day_Trading\\API_Utils\\API_Calls.py\", line 34, in _rest_api_call\n",
      "    raise(TooManyRequestsException(url=url, response_code=r.status_code))\n",
      "API_Utils.Response_Exceptions.TooManyRequestsException\n"
     ]
    },
    {
     "name": "stdout",
     "output_type": "stream",
     "text": [
      "WOO HERES THE RESPONSE!!!: 429\n",
      "Failed API Call on URL:  https://api.coingecko.com/api/v3/coins/markets?vs_currency=usd&order=market_cap_desc&per_page=250&page=38&sparkline=false&locale=en&precision=18\n",
      "Bad Status Code: 429\n",
      "Too Many Requests to CoinGecko... Upping Sleep Time\n",
      "SLEEPING FOR 63 SECONDS\n"
     ]
    },
    {
     "name": "stderr",
     "output_type": "stream",
     "text": [
      "Traceback (most recent call last):\n",
      "  File \"C:\\Users\\riggi\\Projects\\Crypto_Day_Trading\\API_Utils\\API_Calls.py\", line 34, in _rest_api_call\n",
      "    raise(TooManyRequestsException(url=url, response_code=r.status_code))\n",
      "API_Utils.Response_Exceptions.TooManyRequestsException\n"
     ]
    },
    {
     "name": "stdout",
     "output_type": "stream",
     "text": [
      "WOO HERES THE RESPONSE!!!: 429\n",
      "Failed API Call on URL:  https://api.coingecko.com/api/v3/coins/markets?vs_currency=usd&order=market_cap_desc&per_page=250&page=38&sparkline=false&locale=en&precision=18\n",
      "Bad Status Code: 429\n",
      "Too Many Requests to CoinGecko... Upping Sleep Time\n",
      "SLEEPING FOR 94 SECONDS\n"
     ]
    },
    {
     "name": "stderr",
     "output_type": "stream",
     "text": [
      "Traceback (most recent call last):\n",
      "  File \"C:\\Users\\riggi\\Projects\\Crypto_Day_Trading\\API_Utils\\API_Calls.py\", line 34, in _rest_api_call\n",
      "    raise(TooManyRequestsException(url=url, response_code=r.status_code))\n",
      "API_Utils.Response_Exceptions.TooManyRequestsException\n"
     ]
    },
    {
     "name": "stdout",
     "output_type": "stream",
     "text": [
      "WOO HERES THE RESPONSE!!!: 429\n",
      "Failed API Call on URL:  https://api.coingecko.com/api/v3/coins/markets?vs_currency=usd&order=market_cap_desc&per_page=250&page=38&sparkline=false&locale=en&precision=18\n",
      "Bad Status Code: 429\n",
      "Too Many Requests to CoinGecko... Upping Sleep Time\n",
      "SLEEPING FOR 141 SECONDS\n"
     ]
    },
    {
     "name": "stderr",
     "output_type": "stream",
     "text": [
      "Traceback (most recent call last):\n",
      "  File \"C:\\Users\\riggi\\Projects\\Crypto_Day_Trading\\API_Utils\\API_Calls.py\", line 34, in _rest_api_call\n",
      "    raise(TooManyRequestsException(url=url, response_code=r.status_code))\n",
      "API_Utils.Response_Exceptions.TooManyRequestsException\n"
     ]
    },
    {
     "name": "stdout",
     "output_type": "stream",
     "text": [
      "WOO HERES THE RESPONSE!!!: 429\n",
      "Failed API Call on URL:  https://api.coingecko.com/api/v3/coins/markets?vs_currency=usd&order=market_cap_desc&per_page=250&page=38&sparkline=false&locale=en&precision=18\n",
      "Bad Status Code: 429\n",
      "Too Many Requests to CoinGecko... Upping Sleep Time\n",
      "SLEEPING FOR 211 SECONDS\n"
     ]
    },
    {
     "name": "stderr",
     "output_type": "stream",
     "text": [
      "Traceback (most recent call last):\n",
      "  File \"C:\\Users\\riggi\\Projects\\Crypto_Day_Trading\\API_Utils\\API_Calls.py\", line 34, in _rest_api_call\n",
      "    raise(TooManyRequestsException(url=url, response_code=r.status_code))\n",
      "API_Utils.Response_Exceptions.TooManyRequestsException\n"
     ]
    },
    {
     "name": "stdout",
     "output_type": "stream",
     "text": [
      "WOO HERES THE RESPONSE!!!: 200\n",
      "CUR LENGTH OF RESULTS:  9500\n",
      "SLEEPING FOR 6.5 SECONDS\n",
      "WOO HERES THE RESPONSE!!!: 200\n",
      "CUR LENGTH OF RESULTS:  9750\n",
      "SLEEPING FOR 6.5 SECONDS\n",
      "WOO HERES THE RESPONSE!!!: 200\n",
      "CUR LENGTH OF RESULTS:  10000\n",
      "SLEEPING FOR 6.5 SECONDS\n",
      "WOO HERES THE RESPONSE!!!: 200\n",
      "CUR LENGTH OF RESULTS:  10095\n",
      "SLEEPING FOR 6.5 SECONDS\n",
      "WOO HERES THE RESPONSE!!!: 429\n",
      "Failed API Call on URL:  https://api.coingecko.com/api/v3/coins/markets?vs_currency=usd&order=market_cap_desc&per_page=250&page=42&sparkline=false&locale=en&precision=18\n",
      "Bad Status Code: 429\n",
      "Too Many Requests to CoinGecko... Upping Sleep Time\n",
      "SLEEPING FOR 9 SECONDS\n"
     ]
    },
    {
     "name": "stderr",
     "output_type": "stream",
     "text": [
      "Traceback (most recent call last):\n",
      "  File \"C:\\Users\\riggi\\Projects\\Crypto_Day_Trading\\API_Utils\\API_Calls.py\", line 34, in _rest_api_call\n",
      "    raise(TooManyRequestsException(url=url, response_code=r.status_code))\n",
      "API_Utils.Response_Exceptions.TooManyRequestsException\n"
     ]
    },
    {
     "name": "stdout",
     "output_type": "stream",
     "text": [
      "WOO HERES THE RESPONSE!!!: 429\n",
      "Failed API Call on URL:  https://api.coingecko.com/api/v3/coins/markets?vs_currency=usd&order=market_cap_desc&per_page=250&page=42&sparkline=false&locale=en&precision=18\n",
      "Bad Status Code: 429\n",
      "Too Many Requests to CoinGecko... Upping Sleep Time\n",
      "SLEEPING FOR 13 SECONDS\n"
     ]
    },
    {
     "name": "stderr",
     "output_type": "stream",
     "text": [
      "Traceback (most recent call last):\n",
      "  File \"C:\\Users\\riggi\\Projects\\Crypto_Day_Trading\\API_Utils\\API_Calls.py\", line 34, in _rest_api_call\n",
      "    raise(TooManyRequestsException(url=url, response_code=r.status_code))\n",
      "API_Utils.Response_Exceptions.TooManyRequestsException\n"
     ]
    },
    {
     "name": "stdout",
     "output_type": "stream",
     "text": [
      "WOO HERES THE RESPONSE!!!: 429\n",
      "Failed API Call on URL:  https://api.coingecko.com/api/v3/coins/markets?vs_currency=usd&order=market_cap_desc&per_page=250&page=42&sparkline=false&locale=en&precision=18\n",
      "Bad Status Code: 429\n",
      "Too Many Requests to CoinGecko... Upping Sleep Time\n",
      "SLEEPING FOR 19 SECONDS\n"
     ]
    },
    {
     "name": "stderr",
     "output_type": "stream",
     "text": [
      "Traceback (most recent call last):\n",
      "  File \"C:\\Users\\riggi\\Projects\\Crypto_Day_Trading\\API_Utils\\API_Calls.py\", line 34, in _rest_api_call\n",
      "    raise(TooManyRequestsException(url=url, response_code=r.status_code))\n",
      "API_Utils.Response_Exceptions.TooManyRequestsException\n"
     ]
    },
    {
     "name": "stdout",
     "output_type": "stream",
     "text": [
      "WOO HERES THE RESPONSE!!!: 429\n",
      "Failed API Call on URL:  https://api.coingecko.com/api/v3/coins/markets?vs_currency=usd&order=market_cap_desc&per_page=250&page=42&sparkline=false&locale=en&precision=18\n",
      "Bad Status Code: 429\n",
      "Too Many Requests to CoinGecko... Upping Sleep Time\n",
      "SLEEPING FOR 28 SECONDS\n"
     ]
    },
    {
     "name": "stderr",
     "output_type": "stream",
     "text": [
      "Traceback (most recent call last):\n",
      "  File \"C:\\Users\\riggi\\Projects\\Crypto_Day_Trading\\API_Utils\\API_Calls.py\", line 34, in _rest_api_call\n",
      "    raise(TooManyRequestsException(url=url, response_code=r.status_code))\n",
      "API_Utils.Response_Exceptions.TooManyRequestsException\n"
     ]
    },
    {
     "name": "stdout",
     "output_type": "stream",
     "text": [
      "WOO HERES THE RESPONSE!!!: 429\n",
      "Failed API Call on URL:  https://api.coingecko.com/api/v3/coins/markets?vs_currency=usd&order=market_cap_desc&per_page=250&page=42&sparkline=false&locale=en&precision=18\n",
      "Bad Status Code: 429\n",
      "Too Many Requests to CoinGecko... Upping Sleep Time\n",
      "SLEEPING FOR 42 SECONDS\n"
     ]
    },
    {
     "name": "stderr",
     "output_type": "stream",
     "text": [
      "Traceback (most recent call last):\n",
      "  File \"C:\\Users\\riggi\\Projects\\Crypto_Day_Trading\\API_Utils\\API_Calls.py\", line 34, in _rest_api_call\n",
      "    raise(TooManyRequestsException(url=url, response_code=r.status_code))\n",
      "API_Utils.Response_Exceptions.TooManyRequestsException\n"
     ]
    },
    {
     "name": "stdout",
     "output_type": "stream",
     "text": [
      "WOO HERES THE RESPONSE!!!: 429\n",
      "Failed API Call on URL:  https://api.coingecko.com/api/v3/coins/markets?vs_currency=usd&order=market_cap_desc&per_page=250&page=42&sparkline=false&locale=en&precision=18\n",
      "Bad Status Code: 429\n",
      "Too Many Requests to CoinGecko... Upping Sleep Time\n",
      "SLEEPING FOR 63 SECONDS\n"
     ]
    },
    {
     "name": "stderr",
     "output_type": "stream",
     "text": [
      "Traceback (most recent call last):\n",
      "  File \"C:\\Users\\riggi\\Projects\\Crypto_Day_Trading\\API_Utils\\API_Calls.py\", line 34, in _rest_api_call\n",
      "    raise(TooManyRequestsException(url=url, response_code=r.status_code))\n",
      "API_Utils.Response_Exceptions.TooManyRequestsException\n"
     ]
    },
    {
     "name": "stdout",
     "output_type": "stream",
     "text": [
      "WOO HERES THE RESPONSE!!!: 429\n",
      "Failed API Call on URL:  https://api.coingecko.com/api/v3/coins/markets?vs_currency=usd&order=market_cap_desc&per_page=250&page=42&sparkline=false&locale=en&precision=18\n",
      "Bad Status Code: 429\n",
      "Too Many Requests to CoinGecko... Upping Sleep Time\n",
      "SLEEPING FOR 94 SECONDS\n"
     ]
    },
    {
     "name": "stderr",
     "output_type": "stream",
     "text": [
      "Traceback (most recent call last):\n",
      "  File \"C:\\Users\\riggi\\Projects\\Crypto_Day_Trading\\API_Utils\\API_Calls.py\", line 34, in _rest_api_call\n",
      "    raise(TooManyRequestsException(url=url, response_code=r.status_code))\n",
      "API_Utils.Response_Exceptions.TooManyRequestsException\n"
     ]
    },
    {
     "name": "stdout",
     "output_type": "stream",
     "text": [
      "WOO HERES THE RESPONSE!!!: 429\n",
      "Failed API Call on URL:  https://api.coingecko.com/api/v3/coins/markets?vs_currency=usd&order=market_cap_desc&per_page=250&page=42&sparkline=false&locale=en&precision=18\n",
      "Bad Status Code: 429\n",
      "Too Many Requests to CoinGecko... Upping Sleep Time\n",
      "SLEEPING FOR 141 SECONDS\n"
     ]
    },
    {
     "name": "stderr",
     "output_type": "stream",
     "text": [
      "Traceback (most recent call last):\n",
      "  File \"C:\\Users\\riggi\\Projects\\Crypto_Day_Trading\\API_Utils\\API_Calls.py\", line 34, in _rest_api_call\n",
      "    raise(TooManyRequestsException(url=url, response_code=r.status_code))\n",
      "API_Utils.Response_Exceptions.TooManyRequestsException\n"
     ]
    },
    {
     "name": "stdout",
     "output_type": "stream",
     "text": [
      "WOO HERES THE RESPONSE!!!: 429\n",
      "Failed API Call on URL:  https://api.coingecko.com/api/v3/coins/markets?vs_currency=usd&order=market_cap_desc&per_page=250&page=42&sparkline=false&locale=en&precision=18\n",
      "Bad Status Code: 429\n",
      "Too Many Requests to CoinGecko... Upping Sleep Time\n",
      "SLEEPING FOR 211 SECONDS\n"
     ]
    },
    {
     "name": "stderr",
     "output_type": "stream",
     "text": [
      "Traceback (most recent call last):\n",
      "  File \"C:\\Users\\riggi\\Projects\\Crypto_Day_Trading\\API_Utils\\API_Calls.py\", line 34, in _rest_api_call\n",
      "    raise(TooManyRequestsException(url=url, response_code=r.status_code))\n",
      "API_Utils.Response_Exceptions.TooManyRequestsException\n"
     ]
    },
    {
     "name": "stdout",
     "output_type": "stream",
     "text": [
      "WOO HERES THE RESPONSE!!!: 200\n",
      "CUR LENGTH OF RESULTS:  10095\n",
      "SLEEPING FOR 6.5 SECONDS\n"
     ]
    }
   ],
   "source": [
    "market_data_save_path = os.path.join(os.path.expanduser('~'),\n",
    "                                    'Data',\n",
    "                                    'Crypto_Day_Trading',\n",
    "                                    'Market_Cap_Experiment_Data',\n",
    "                                    'Market_Cap_Data_8_20_23.pkl')\n",
    "\n",
    "\n",
    "if not os.path.exists(os.path.split(market_data_save_path)[0]):\n",
    "    os.makedirs(os.path.split(market_data_save_path)[0])\n",
    "    \n",
    "if not os.path.exists(market_data_save_path):\n",
    "    current_market_data = get_current_market_data(default_sleep_time=6.5)\n",
    "    with open(market_data_save_path, 'wb') as f:\n",
    "        pkl.dump(current_market_data, f)\n",
    "else:\n",
    "    with open(market_data_save_path, 'rb') as f:\n",
    "        current_market_data = pkl.load(f)"
   ]
  },
  {
   "cell_type": "code",
   "execution_count": 14,
   "id": "compatible-change",
   "metadata": {},
   "outputs": [],
   "source": [
    "total_cap = 0\n",
    "running_cap = []\n",
    "for i in range(len(current_market_data)):\n",
    "#     if i % 100 == 0:\n",
    "#         print(i)\n",
    "    cur_cap = current_market_data[i]['market_cap']\n",
    "    if cur_cap is None:\n",
    "        cur_cap = 0\n",
    "    #print(cur_cap)\n",
    "    if len(running_cap) == 0:\n",
    "        running_cap.append(cur_cap)\n",
    "    else:\n",
    "        running_cap.append(running_cap[-1] + cur_cap)\n",
    "    total_cap += cur_cap"
   ]
  },
  {
   "cell_type": "markdown",
   "id": "measured-freight",
   "metadata": {},
   "source": [
    "#### The Top 200 Coins Have ~97% of the Total Crypto Market Cap\n",
    "#### The Top 500 Coins Have ~99% of the Total Crypto Market Cap"
   ]
  },
  {
   "cell_type": "code",
   "execution_count": 35,
   "id": "prime-status",
   "metadata": {},
   "outputs": [
    {
     "name": "stdout",
     "output_type": "stream",
     "text": [
      "0.989289998035701\n"
     ]
    },
    {
     "data": {
      "image/png": "[encoded data removed]",
      "text/plain": [
       "<Figure size 432x288 with 1 Axes>"
      ]
     },
     "metadata": {
      "needs_background": "light"
     },
     "output_type": "display_data"
    }
   ],
   "source": [
    "n_coins = 500\n",
    "plt.plot(np.array(running_cap)[:n_coins]/total_cap)\n",
    "print(max(np.array(running_cap)[:n_coins]/total_cap))"
   ]
  },
  {
   "cell_type": "code",
   "execution_count": null,
   "id": "hired-saint",
   "metadata": {},
   "outputs": [],
   "source": []
  }
 ],
 "metadata": {
  "kernelspec": {
   "display_name": "Python [conda env:Crypto_Day_Trading] *",
   "language": "python",
   "name": "conda-env-Crypto_Day_Trading-py"
  },
  "language_info": {
   "codemirror_mode": {
    "name": "ipython",
    "version": 3
   },
   "file_extension": ".py",
   "mimetype": "text/x-python",
   "name": "python",
   "nbconvert_exporter": "python",
   "pygments_lexer": "ipython3",
   "version": "3.8.8"
  }
 },
 "nbformat": 4,
 "nbformat_minor": 5
}
